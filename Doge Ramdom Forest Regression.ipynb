{
 "cells": [
  {
   "cell_type": "markdown",
   "id": "821793d2-ce27-4574-ae59-54ec2b45684b",
   "metadata": {
    "tags": []
   },
   "source": [
    "### Dezembro 2020"
   ]
  },
  {
   "cell_type": "code",
   "execution_count": 1,
   "id": "8a7817d9-7b0e-4809-85ba-323a20bae9a0",
   "metadata": {},
   "outputs": [],
   "source": [
    "import pandas_datareader as web\n",
    "import pandas as pd\n",
    "import numpy as np"
   ]
  },
  {
   "cell_type": "code",
   "execution_count": 2,
   "id": "11764198-a46a-4b45-830e-aca842051d20",
   "metadata": {},
   "outputs": [
    {
     "data": {
      "text/html": [
       "<div>\n",
       "<style scoped>\n",
       "    .dataframe tbody tr th:only-of-type {\n",
       "        vertical-align: middle;\n",
       "    }\n",
       "\n",
       "    .dataframe tbody tr th {\n",
       "        vertical-align: top;\n",
       "    }\n",
       "\n",
       "    .dataframe thead th {\n",
       "        text-align: right;\n",
       "    }\n",
       "</style>\n",
       "<table border=\"1\" class=\"dataframe\">\n",
       "  <thead>\n",
       "    <tr style=\"text-align: right;\">\n",
       "      <th></th>\n",
       "      <th>High</th>\n",
       "      <th>Low</th>\n",
       "      <th>Open</th>\n",
       "      <th>Close</th>\n",
       "      <th>Volume</th>\n",
       "      <th>Adj Close</th>\n",
       "    </tr>\n",
       "    <tr>\n",
       "      <th>Date</th>\n",
       "      <th></th>\n",
       "      <th></th>\n",
       "      <th></th>\n",
       "      <th></th>\n",
       "      <th></th>\n",
       "      <th></th>\n",
       "    </tr>\n",
       "  </thead>\n",
       "  <tbody>\n",
       "    <tr>\n",
       "      <th>2020-12-01</th>\n",
       "      <td>0.003572</td>\n",
       "      <td>0.003269</td>\n",
       "      <td>0.003551</td>\n",
       "      <td>0.003335</td>\n",
       "      <td>80163603</td>\n",
       "      <td>0.003335</td>\n",
       "    </tr>\n",
       "    <tr>\n",
       "      <th>2020-12-02</th>\n",
       "      <td>0.003436</td>\n",
       "      <td>0.003293</td>\n",
       "      <td>0.003335</td>\n",
       "      <td>0.003374</td>\n",
       "      <td>58705661</td>\n",
       "      <td>0.003374</td>\n",
       "    </tr>\n",
       "    <tr>\n",
       "      <th>2020-12-03</th>\n",
       "      <td>0.003500</td>\n",
       "      <td>0.003352</td>\n",
       "      <td>0.003375</td>\n",
       "      <td>0.003428</td>\n",
       "      <td>47907032</td>\n",
       "      <td>0.003428</td>\n",
       "    </tr>\n",
       "    <tr>\n",
       "      <th>2020-12-04</th>\n",
       "      <td>0.003447</td>\n",
       "      <td>0.003285</td>\n",
       "      <td>0.003429</td>\n",
       "      <td>0.003298</td>\n",
       "      <td>45062222</td>\n",
       "      <td>0.003298</td>\n",
       "    </tr>\n",
       "    <tr>\n",
       "      <th>2020-12-05</th>\n",
       "      <td>0.003414</td>\n",
       "      <td>0.003268</td>\n",
       "      <td>0.003297</td>\n",
       "      <td>0.003397</td>\n",
       "      <td>43386583</td>\n",
       "      <td>0.003397</td>\n",
       "    </tr>\n",
       "  </tbody>\n",
       "</table>\n",
       "</div>"
      ],
      "text/plain": [
       "                High       Low      Open     Close    Volume  Adj Close\n",
       "Date                                                                   \n",
       "2020-12-01  0.003572  0.003269  0.003551  0.003335  80163603   0.003335\n",
       "2020-12-02  0.003436  0.003293  0.003335  0.003374  58705661   0.003374\n",
       "2020-12-03  0.003500  0.003352  0.003375  0.003428  47907032   0.003428\n",
       "2020-12-04  0.003447  0.003285  0.003429  0.003298  45062222   0.003298\n",
       "2020-12-05  0.003414  0.003268  0.003297  0.003397  43386583   0.003397"
      ]
     },
     "execution_count": 2,
     "metadata": {},
     "output_type": "execute_result"
    }
   ],
   "source": [
    "# Previsao com base nos dados de quando o valor do doge passou a ser relevante, entre Dez/20 inicio de Jan/21\n",
    "df = web.DataReader('DOGE-USD', data_source='yahoo', start='2020-12-01', end='2021-01-31') \n",
    "df.head()"
   ]
  },
  {
   "cell_type": "code",
   "execution_count": 3,
   "id": "69f3a170-4887-49ca-86df-4acaa70fe49d",
   "metadata": {},
   "outputs": [
    {
     "data": {
      "text/plain": [
       "<AxesSubplot:xlabel='Date'>"
      ]
     },
     "execution_count": 3,
     "metadata": {},
     "output_type": "execute_result"
    },
    {
     "data": {
      "image/png": "[encoded data removed]",
      "text/plain": [
       "<Figure size 432x288 with 1 Axes>"
      ]
     },
     "metadata": {
      "needs_background": "light"
     },
     "output_type": "display_data"
    }
   ],
   "source": [
    "doge = df\n",
    "doge.plot()"
   ]
  },
  {
   "cell_type": "code",
   "execution_count": 4,
   "id": "99e5fd7c-5033-4b26-b0c6-1f7380b1092c",
   "metadata": {},
   "outputs": [
    {
     "data": {
      "text/html": [
       "<div>\n",
       "<style scoped>\n",
       "    .dataframe tbody tr th:only-of-type {\n",
       "        vertical-align: middle;\n",
       "    }\n",
       "\n",
       "    .dataframe tbody tr th {\n",
       "        vertical-align: top;\n",
       "    }\n",
       "\n",
       "    .dataframe thead th {\n",
       "        text-align: right;\n",
       "    }\n",
       "</style>\n",
       "<table border=\"1\" class=\"dataframe\">\n",
       "  <thead>\n",
       "    <tr style=\"text-align: right;\">\n",
       "      <th></th>\n",
       "      <th>Close</th>\n",
       "    </tr>\n",
       "    <tr>\n",
       "      <th>Date</th>\n",
       "      <th></th>\n",
       "    </tr>\n",
       "  </thead>\n",
       "  <tbody>\n",
       "    <tr>\n",
       "      <th>2020-12-01</th>\n",
       "      <td>0.003335</td>\n",
       "    </tr>\n",
       "    <tr>\n",
       "      <th>2020-12-02</th>\n",
       "      <td>0.003374</td>\n",
       "    </tr>\n",
       "    <tr>\n",
       "      <th>2020-12-03</th>\n",
       "      <td>0.003428</td>\n",
       "    </tr>\n",
       "    <tr>\n",
       "      <th>2020-12-04</th>\n",
       "      <td>0.003298</td>\n",
       "    </tr>\n",
       "    <tr>\n",
       "      <th>2020-12-05</th>\n",
       "      <td>0.003397</td>\n",
       "    </tr>\n",
       "  </tbody>\n",
       "</table>\n",
       "</div>"
      ],
      "text/plain": [
       "               Close\n",
       "Date                \n",
       "2020-12-01  0.003335\n",
       "2020-12-02  0.003374\n",
       "2020-12-03  0.003428\n",
       "2020-12-04  0.003298\n",
       "2020-12-05  0.003397"
      ]
     },
     "execution_count": 4,
     "metadata": {},
     "output_type": "execute_result"
    }
   ],
   "source": [
    "doge = doge.loc[: ,[\"Close\"]] # Utilizamos o preco de fechamento do dia anterior como refencia\n",
    "doge.head()"
   ]
  },
  {
   "cell_type": "code",
   "execution_count": 5,
   "id": "3290aa2e-91a9-4b5c-80e3-c3d2f3fc79cf",
   "metadata": {},
   "outputs": [],
   "source": [
    "# Prever n dias no futuro\n",
    "predic_day = 25 #7 dias\n",
    "\n",
    "# cria uma coluna previsao com dados dos proximos 7. A coluna vai servir para ser utilizada na previsao apos a separacao das bases de teste e treinamento\n",
    "# os dados contidos na coluna Prediction estao 7 dias a frente da doluna Close.\n",
    "doge[\"Prediction\"] = doge[[\"Close\"]].shift(-predic_day)"
   ]
  },
  {
   "cell_type": "code",
   "execution_count": 6,
   "id": "ca809164-fdae-42e4-8ef0-c957ac53b607",
   "metadata": {},
   "outputs": [
    {
     "data": {
      "text/html": [
       "<div>\n",
       "<style scoped>\n",
       "    .dataframe tbody tr th:only-of-type {\n",
       "        vertical-align: middle;\n",
       "    }\n",
       "\n",
       "    .dataframe tbody tr th {\n",
       "        vertical-align: top;\n",
       "    }\n",
       "\n",
       "    .dataframe thead th {\n",
       "        text-align: right;\n",
       "    }\n",
       "</style>\n",
       "<table border=\"1\" class=\"dataframe\">\n",
       "  <thead>\n",
       "    <tr style=\"text-align: right;\">\n",
       "      <th></th>\n",
       "      <th>Close</th>\n",
       "      <th>Prediction</th>\n",
       "    </tr>\n",
       "    <tr>\n",
       "      <th>Date</th>\n",
       "      <th></th>\n",
       "      <th></th>\n",
       "    </tr>\n",
       "  </thead>\n",
       "  <tbody>\n",
       "    <tr>\n",
       "      <th>2020-12-01</th>\n",
       "      <td>0.003335</td>\n",
       "      <td>0.004494</td>\n",
       "    </tr>\n",
       "    <tr>\n",
       "      <th>2020-12-02</th>\n",
       "      <td>0.003374</td>\n",
       "      <td>0.004548</td>\n",
       "    </tr>\n",
       "    <tr>\n",
       "      <th>2020-12-03</th>\n",
       "      <td>0.003428</td>\n",
       "      <td>0.004592</td>\n",
       "    </tr>\n",
       "    <tr>\n",
       "      <th>2020-12-04</th>\n",
       "      <td>0.003298</td>\n",
       "      <td>0.004486</td>\n",
       "    </tr>\n",
       "    <tr>\n",
       "      <th>2020-12-05</th>\n",
       "      <td>0.003397</td>\n",
       "      <td>0.004636</td>\n",
       "    </tr>\n",
       "  </tbody>\n",
       "</table>\n",
       "</div>"
      ],
      "text/plain": [
       "               Close  Prediction\n",
       "Date                            \n",
       "2020-12-01  0.003335    0.004494\n",
       "2020-12-02  0.003374    0.004548\n",
       "2020-12-03  0.003428    0.004592\n",
       "2020-12-04  0.003298    0.004486\n",
       "2020-12-05  0.003397    0.004636"
      ]
     },
     "execution_count": 6,
     "metadata": {},
     "output_type": "execute_result"
    }
   ],
   "source": [
    "doge.head()"
   ]
  },
  {
   "cell_type": "code",
   "execution_count": 7,
   "id": "97cd6df2-1047-46b2-89e1-af10250b1ccf",
   "metadata": {
    "scrolled": true,
    "tags": []
   },
   "outputs": [
    {
     "data": {
      "text/plain": [
       "array([[0.003335],\n",
       "       [0.003374],\n",
       "       [0.003428],\n",
       "       [0.003298],\n",
       "       [0.003397],\n",
       "       [0.003388],\n",
       "       [0.003342],\n",
       "       [0.003179],\n",
       "       [0.003158],\n",
       "       [0.003105],\n",
       "       [0.003079],\n",
       "       [0.003163],\n",
       "       [0.003256],\n",
       "       [0.003231],\n",
       "       [0.003206],\n",
       "       [0.003416],\n",
       "       [0.00373 ],\n",
       "       [0.003858],\n",
       "       [0.003927],\n",
       "       [0.004625],\n",
       "       [0.004787],\n",
       "       [0.004508],\n",
       "       [0.003768],\n",
       "       [0.00457 ],\n",
       "       [0.004582],\n",
       "       [0.004494],\n",
       "       [0.004548],\n",
       "       [0.004592],\n",
       "       [0.004486],\n",
       "       [0.004636],\n",
       "       [0.004682],\n",
       "       [0.005685],\n",
       "       [0.010615],\n",
       "       [0.009771],\n",
       "       [0.009767],\n",
       "       [0.00992 ],\n",
       "       [0.010465]])"
      ]
     },
     "execution_count": 7,
     "metadata": {},
     "output_type": "execute_result"
    }
   ],
   "source": [
    "# Data set independente\n",
    "X = np.array(doge.drop([\"Prediction\"], 1)) #remove os valores da coluna, qual ira conter os dados que estamos procurando\n",
    "X = X[:len(doge)-predic_day -1] # remove a ultima linha da previsao, pois esta deve estar vazia, por nao conter mais dados a ser previstos\n",
    "X"
   ]
  },
  {
   "cell_type": "code",
   "execution_count": 8,
   "id": "f05b5503-b873-4e7b-b0c9-ae780bd82b79",
   "metadata": {
    "scrolled": true,
    "tags": []
   },
   "outputs": [
    {
     "data": {
      "text/plain": [
       "array([0.004494, 0.004548, 0.004592, 0.004486, 0.004636, 0.004682,\n",
       "       0.005685, 0.010615, 0.009771, 0.009767, 0.00992 , 0.010465,\n",
       "       0.009742, 0.009846, 0.010194, 0.00986 , 0.008835, 0.008063,\n",
       "       0.008616, 0.009397, 0.009369, 0.009265, 0.009067, 0.009171,\n",
       "       0.009098, 0.00906 , 0.008166, 0.008524, 0.008579, 0.008727,\n",
       "       0.008383, 0.008255, 0.007482, 0.012555, 0.047162, 0.028176,\n",
       "       0.037196])"
      ]
     },
     "execution_count": 8,
     "metadata": {},
     "output_type": "execute_result"
    }
   ],
   "source": [
    "#Data set dependende\n",
    "y = np.array(doge[\"Prediction\"]) # pega os dados da coluna Prediction\n",
    "y = y[:-predic_day -1] # pegar todos os daos menos o n+1 (N é o numero de dias)\n",
    "y"
   ]
  },
  {
   "cell_type": "code",
   "execution_count": 9,
   "id": "2cd89d53-e356-4fa0-8210-39b23d9a05e4",
   "metadata": {},
   "outputs": [],
   "source": [
    "from sklearn.model_selection import train_test_split # separa os dados de trainamento(80%) e dados de teste (20%).\n",
    "\n",
    "x_train, x_test, y_train, y_test = train_test_split(X,y, test_size = 0.20)"
   ]
  },
  {
   "cell_type": "code",
   "execution_count": 10,
   "id": "38325648-c4eb-40e8-a56a-4bb4cfb6716f",
   "metadata": {},
   "outputs": [
    {
     "name": "stdout",
     "output_type": "stream",
     "text": [
      "0.19261041260148537\n"
     ]
    }
   ],
   "source": [
    "from sklearn.ensemble import RandomForestRegressor #Importa os modulos para Random Forest Regressor, para utilizar no modelo\n",
    "\n",
    "forest = RandomForestRegressor(n_estimators= 2, random_state= 587)\n",
    "forest.fit(x_train, y_train)\n",
    "print(forest.score(x_train, y_train)) #mostra a pontuacao de confinca no modelo "
   ]
  },
  {
   "cell_type": "code",
   "execution_count": null,
   "id": "e9f1ea3a-e77e-4a3e-b9c4-2dae8fba1060",
   "metadata": {},
   "outputs": [],
   "source": []
  },
  {
   "cell_type": "code",
   "execution_count": 11,
   "id": "ea2795a2-ef0c-404f-b382-255f2acbeb09",
   "metadata": {},
   "outputs": [
    {
     "name": "stdout",
     "output_type": "stream",
     "text": [
      "Os valores previstos para Doge Coin sao: [0.004682  0.010194  0.00889   0.010194  0.008063  0.009397  0.009767\n",
      " 0.0100185]\n",
      "\n",
      "Os valores reais para Doge Coin sao: [0.004548 0.009771 0.009369 0.010465 0.008616 0.008727 0.00992  0.047162]\n"
     ]
    }
   ],
   "source": [
    "# faz uma comparacao, mostrando o quao perto os dados previstos estao dos dados reais\n",
    "prediction = forest.predict(x_test)\n",
    "\n",
    "print(\"Os valores previstos para Doge Coin sao:\", prediction) # valores previstos\n",
    "\n",
    "print()\n",
    "\n",
    "print(\"Os valores reais para Doge Coin sao:\" , y_test) # valores reais\n"
   ]
  },
  {
   "cell_type": "code",
   "execution_count": 12,
   "id": "2038d950-3d43-4812-bb98-b5b0e5e256fc",
   "metadata": {},
   "outputs": [],
   "source": [
    "# Validacao, dados inda nao vistos pelo modelo\n",
    "temp_df = doge[:-predic_day] # pega os dados menos os ultimos 7, que sao os valores que o modelo deve prever\n",
    "\n",
    "\n",
    "# armazena os valores que serao utilizados na futura previsao, no caso os ultimos 7,\n",
    "# ja descontando os dados que retiramos da tabela na variavel acima.\n",
    "x_val = list(temp_df.tail(25)[\"Close\"])\n"
   ]
  },
  {
   "cell_type": "code",
   "execution_count": 13,
   "id": "68be0dd2-2993-4c81-bb2c-030b635cd9ff",
   "metadata": {},
   "outputs": [
    {
     "data": {
      "text/plain": [
       "[0.0032309999223798513,\n",
       " 0.0032059999648481607,\n",
       " 0.003415999934077263,\n",
       " 0.0037299999967217445,\n",
       " 0.0038580000400543213,\n",
       " 0.003926999866962433,\n",
       " 0.004625000059604645,\n",
       " 0.004786999896168709,\n",
       " 0.0045079998672008514,\n",
       " 0.003768000053241849,\n",
       " 0.004569999873638153,\n",
       " 0.0045819999650120735,\n",
       " 0.004494000226259232,\n",
       " 0.004548000171780586,\n",
       " 0.004592000041157007,\n",
       " 0.004486000165343285,\n",
       " 0.004635999910533428,\n",
       " 0.004681999795138836,\n",
       " 0.005685000214725733,\n",
       " 0.010614999569952488,\n",
       " 0.009770999662578106,\n",
       " 0.009766999632120132,\n",
       " 0.009920000098645687,\n",
       " 0.010464999824762344,\n",
       " 0.00974200014024973]"
      ]
     },
     "execution_count": 13,
     "metadata": {},
     "output_type": "execute_result"
    }
   ],
   "source": [
    "x_val #os ultimos 7 valores utilizados para realizar a previsao."
   ]
  },
  {
   "cell_type": "code",
   "execution_count": 14,
   "id": "cc7d4e49-d56e-4ef6-accf-7f35b6de02f0",
   "metadata": {},
   "outputs": [
    {
     "name": "stdout",
     "output_type": "stream",
     "text": [
      "Previsto: [0.01002]\n",
      "Previsto: [0.010194]\n",
      "Previsto: [0.004592]\n",
      "Previsto: [0.008063]\n",
      "Previsto: [0.008063]\n",
      "Previsto: [0.008063]\n",
      "Previsto: [0.009397]\n",
      "Previsto: [0.00889]\n",
      "Previsto: [0.0091625]\n",
      "Previsto: [0.008063]\n",
      "Previsto: [0.0091345]\n",
      "Previsto: [0.009098]\n",
      "Previsto: [0.00906]\n",
      "Previsto: [0.008632]\n",
      "Previsto: [0.008524]\n",
      "Previsto: [0.0088195]\n",
      "Previsto: [0.009397]\n",
      "Previsto: [0.00889]\n",
      "Previsto: [0.008255]\n",
      "Previsto: [0.007482]\n",
      "Previsto: [0.0100185]\n",
      "Previsto: [0.0100185]\n",
      "Previsto: [0.017829]\n",
      "Previsto: [0.007482]\n",
      "Previsto: [0.0100185]\n",
      "----------\n",
      "Preco Anterior Date\n",
      "2020-12-14    0.009846\n",
      "2020-12-15    0.010194\n",
      "2020-12-16    0.009860\n",
      "2020-12-17    0.008835\n",
      "2020-12-18    0.008063\n",
      "2020-12-19    0.008616\n",
      "2020-12-20    0.009397\n",
      "2020-12-21    0.009369\n",
      "2020-12-22    0.009265\n",
      "2020-12-23    0.009067\n",
      "2020-12-24    0.009171\n",
      "2020-12-25    0.009098\n",
      "2020-12-26    0.009060\n",
      "2020-12-27    0.008166\n",
      "2020-12-28    0.008524\n",
      "2020-12-29    0.008579\n",
      "2020-12-30    0.008727\n",
      "2020-12-31    0.008383\n",
      "2021-01-01    0.008255\n",
      "2021-01-02    0.007482\n",
      "2021-01-03    0.012555\n",
      "2021-01-04    0.047162\n",
      "2021-01-05    0.028176\n",
      "2021-01-06    0.037196\n",
      "2021-01-07    0.034875\n",
      "Name: Prediction, dtype: float64\n"
     ]
    }
   ],
   "source": [
    "#Predicao dos dados:\n",
    "valores_preditos = []\n",
    "for p in x_val: # percorre a lista de valores da variavel x_val, utilizando os valores da variavel para realizar a previsao\n",
    "    prediction = forest.predict([[p]])\n",
    "    valores_preditos.append(prediction)\n",
    "#previsao\n",
    "    print(\"Previsto:\" , prediction) #preco previsto para os proximos 7 dias\n",
    "print(\"-\"*10)\n",
    "print(\"Preco Anterior\", temp_df.tail(25)[\"Prediction\"]) "
   ]
  },
  {
   "cell_type": "code",
   "execution_count": null,
   "id": "c6dadec1-df4b-4a70-a368-a8c9d11bece3",
   "metadata": {},
   "outputs": [],
   "source": []
  },
  {
   "cell_type": "markdown",
   "id": "91908dd3-c324-4858-83be-42d8b0506912",
   "metadata": {},
   "source": [
    "### Janeiro 2021:"
   ]
  },
  {
   "cell_type": "code",
   "execution_count": 15,
   "id": "9982c18c-9729-4cfb-8f77-b1f89eb46e06",
   "metadata": {},
   "outputs": [
    {
     "data": {
      "text/html": [
       "<div>\n",
       "<style scoped>\n",
       "    .dataframe tbody tr th:only-of-type {\n",
       "        vertical-align: middle;\n",
       "    }\n",
       "\n",
       "    .dataframe tbody tr th {\n",
       "        vertical-align: top;\n",
       "    }\n",
       "\n",
       "    .dataframe thead th {\n",
       "        text-align: right;\n",
       "    }\n",
       "</style>\n",
       "<table border=\"1\" class=\"dataframe\">\n",
       "  <thead>\n",
       "    <tr style=\"text-align: right;\">\n",
       "      <th></th>\n",
       "      <th>High</th>\n",
       "      <th>Low</th>\n",
       "      <th>Open</th>\n",
       "      <th>Close</th>\n",
       "      <th>Volume</th>\n",
       "      <th>Adj Close</th>\n",
       "    </tr>\n",
       "    <tr>\n",
       "      <th>Date</th>\n",
       "      <th></th>\n",
       "      <th></th>\n",
       "      <th></th>\n",
       "      <th></th>\n",
       "      <th></th>\n",
       "      <th></th>\n",
       "    </tr>\n",
       "  </thead>\n",
       "  <tbody>\n",
       "    <tr>\n",
       "      <th>2021-01-01</th>\n",
       "      <td>0.005685</td>\n",
       "      <td>0.004615</td>\n",
       "      <td>0.004681</td>\n",
       "      <td>0.005685</td>\n",
       "      <td>228961515</td>\n",
       "      <td>0.005685</td>\n",
       "    </tr>\n",
       "    <tr>\n",
       "      <th>2021-01-02</th>\n",
       "      <td>0.013698</td>\n",
       "      <td>0.005584</td>\n",
       "      <td>0.005686</td>\n",
       "      <td>0.010615</td>\n",
       "      <td>3421562680</td>\n",
       "      <td>0.010615</td>\n",
       "    </tr>\n",
       "    <tr>\n",
       "      <th>2021-01-03</th>\n",
       "      <td>0.013867</td>\n",
       "      <td>0.009409</td>\n",
       "      <td>0.010602</td>\n",
       "      <td>0.009771</td>\n",
       "      <td>2707003608</td>\n",
       "      <td>0.009771</td>\n",
       "    </tr>\n",
       "    <tr>\n",
       "      <th>2021-01-04</th>\n",
       "      <td>0.011421</td>\n",
       "      <td>0.007878</td>\n",
       "      <td>0.009785</td>\n",
       "      <td>0.009767</td>\n",
       "      <td>1372398979</td>\n",
       "      <td>0.009767</td>\n",
       "    </tr>\n",
       "    <tr>\n",
       "      <th>2021-01-05</th>\n",
       "      <td>0.010219</td>\n",
       "      <td>0.008972</td>\n",
       "      <td>0.009767</td>\n",
       "      <td>0.009920</td>\n",
       "      <td>687256067</td>\n",
       "      <td>0.009920</td>\n",
       "    </tr>\n",
       "  </tbody>\n",
       "</table>\n",
       "</div>"
      ],
      "text/plain": [
       "                High       Low      Open     Close      Volume  Adj Close\n",
       "Date                                                                     \n",
       "2021-01-01  0.005685  0.004615  0.004681  0.005685   228961515   0.005685\n",
       "2021-01-02  0.013698  0.005584  0.005686  0.010615  3421562680   0.010615\n",
       "2021-01-03  0.013867  0.009409  0.010602  0.009771  2707003608   0.009771\n",
       "2021-01-04  0.011421  0.007878  0.009785  0.009767  1372398979   0.009767\n",
       "2021-01-05  0.010219  0.008972  0.009767  0.009920   687256067   0.009920"
      ]
     },
     "execution_count": 15,
     "metadata": {},
     "output_type": "execute_result"
    }
   ],
   "source": [
    "df = web.DataReader('DOGE-USD', data_source='yahoo', start='2021-01-01', end='2021-02-28') \n",
    "df.head()"
   ]
  },
  {
   "cell_type": "code",
   "execution_count": 16,
   "id": "7bd797f9-50ee-4558-8f76-060e5ac450ca",
   "metadata": {},
   "outputs": [
    {
     "data": {
      "text/plain": [
       "<AxesSubplot:xlabel='Date'>"
      ]
     },
     "execution_count": 16,
     "metadata": {},
     "output_type": "execute_result"
    },
    {
     "data": {
      "image/png": "[encoded data removed]",
      "text/plain": [
       "<Figure size 432x288 with 1 Axes>"
      ]
     },
     "metadata": {
      "needs_background": "light"
     },
     "output_type": "display_data"
    }
   ],
   "source": [
    "doge = df\n",
    "doge.plot()"
   ]
  },
  {
   "cell_type": "code",
   "execution_count": 17,
   "id": "a08e43b5-9739-4855-8233-18ac03348679",
   "metadata": {},
   "outputs": [
    {
     "data": {
      "text/html": [
       "<div>\n",
       "<style scoped>\n",
       "    .dataframe tbody tr th:only-of-type {\n",
       "        vertical-align: middle;\n",
       "    }\n",
       "\n",
       "    .dataframe tbody tr th {\n",
       "        vertical-align: top;\n",
       "    }\n",
       "\n",
       "    .dataframe thead th {\n",
       "        text-align: right;\n",
       "    }\n",
       "</style>\n",
       "<table border=\"1\" class=\"dataframe\">\n",
       "  <thead>\n",
       "    <tr style=\"text-align: right;\">\n",
       "      <th></th>\n",
       "      <th>Close</th>\n",
       "    </tr>\n",
       "    <tr>\n",
       "      <th>Date</th>\n",
       "      <th></th>\n",
       "    </tr>\n",
       "  </thead>\n",
       "  <tbody>\n",
       "    <tr>\n",
       "      <th>2021-01-01</th>\n",
       "      <td>0.005685</td>\n",
       "    </tr>\n",
       "    <tr>\n",
       "      <th>2021-01-02</th>\n",
       "      <td>0.010615</td>\n",
       "    </tr>\n",
       "    <tr>\n",
       "      <th>2021-01-03</th>\n",
       "      <td>0.009771</td>\n",
       "    </tr>\n",
       "    <tr>\n",
       "      <th>2021-01-04</th>\n",
       "      <td>0.009767</td>\n",
       "    </tr>\n",
       "    <tr>\n",
       "      <th>2021-01-05</th>\n",
       "      <td>0.009920</td>\n",
       "    </tr>\n",
       "  </tbody>\n",
       "</table>\n",
       "</div>"
      ],
      "text/plain": [
       "               Close\n",
       "Date                \n",
       "2021-01-01  0.005685\n",
       "2021-01-02  0.010615\n",
       "2021-01-03  0.009771\n",
       "2021-01-04  0.009767\n",
       "2021-01-05  0.009920"
      ]
     },
     "execution_count": 17,
     "metadata": {},
     "output_type": "execute_result"
    }
   ],
   "source": [
    "doge = doge.loc[: ,[\"Close\"]] # Utilizamos o preco de fechamento do dia anterior como refencia\n",
    "doge.head()"
   ]
  },
  {
   "cell_type": "code",
   "execution_count": 18,
   "id": "8ae93595-ef99-4a0a-becc-835d1740e224",
   "metadata": {},
   "outputs": [],
   "source": [
    "# Prever n dias no futuro\n",
    "predic_day = 25 #7 dias\n",
    "\n",
    "# cria uma coluna previsao com dados dos proximos 7. A coluna vai servir para ser utilizada na previsao apos a separacao das bases de teste e treinamento\n",
    "# os dados contidos na coluna Prediction estao 7 dias a frente da doluna Close.\n",
    "doge[\"Prediction\"] = doge[[\"Close\"]].shift(-predic_day)"
   ]
  },
  {
   "cell_type": "code",
   "execution_count": 19,
   "id": "16f93688-aa1b-452f-bd0f-537748aa2f04",
   "metadata": {},
   "outputs": [
    {
     "data": {
      "text/html": [
       "<div>\n",
       "<style scoped>\n",
       "    .dataframe tbody tr th:only-of-type {\n",
       "        vertical-align: middle;\n",
       "    }\n",
       "\n",
       "    .dataframe tbody tr th {\n",
       "        vertical-align: top;\n",
       "    }\n",
       "\n",
       "    .dataframe thead th {\n",
       "        text-align: right;\n",
       "    }\n",
       "</style>\n",
       "<table border=\"1\" class=\"dataframe\">\n",
       "  <thead>\n",
       "    <tr style=\"text-align: right;\">\n",
       "      <th></th>\n",
       "      <th>Close</th>\n",
       "      <th>Prediction</th>\n",
       "    </tr>\n",
       "    <tr>\n",
       "      <th>Date</th>\n",
       "      <th></th>\n",
       "      <th></th>\n",
       "    </tr>\n",
       "  </thead>\n",
       "  <tbody>\n",
       "    <tr>\n",
       "      <th>2021-01-01</th>\n",
       "      <td>0.005685</td>\n",
       "      <td>0.008255</td>\n",
       "    </tr>\n",
       "    <tr>\n",
       "      <th>2021-01-02</th>\n",
       "      <td>0.010615</td>\n",
       "      <td>0.007482</td>\n",
       "    </tr>\n",
       "    <tr>\n",
       "      <th>2021-01-03</th>\n",
       "      <td>0.009771</td>\n",
       "      <td>0.012555</td>\n",
       "    </tr>\n",
       "    <tr>\n",
       "      <th>2021-01-04</th>\n",
       "      <td>0.009767</td>\n",
       "      <td>0.047162</td>\n",
       "    </tr>\n",
       "    <tr>\n",
       "      <th>2021-01-05</th>\n",
       "      <td>0.009920</td>\n",
       "      <td>0.028176</td>\n",
       "    </tr>\n",
       "  </tbody>\n",
       "</table>\n",
       "</div>"
      ],
      "text/plain": [
       "               Close  Prediction\n",
       "Date                            \n",
       "2021-01-01  0.005685    0.008255\n",
       "2021-01-02  0.010615    0.007482\n",
       "2021-01-03  0.009771    0.012555\n",
       "2021-01-04  0.009767    0.047162\n",
       "2021-01-05  0.009920    0.028176"
      ]
     },
     "execution_count": 19,
     "metadata": {},
     "output_type": "execute_result"
    }
   ],
   "source": [
    "doge.head()"
   ]
  },
  {
   "cell_type": "code",
   "execution_count": 20,
   "id": "8cb87849-95af-4dd7-8d9f-2d49682c0787",
   "metadata": {
    "scrolled": true,
    "tags": []
   },
   "outputs": [
    {
     "data": {
      "text/plain": [
       "array([[0.005685],\n",
       "       [0.010615],\n",
       "       [0.009771],\n",
       "       [0.009767],\n",
       "       [0.00992 ],\n",
       "       [0.010465],\n",
       "       [0.009742],\n",
       "       [0.009846],\n",
       "       [0.010194],\n",
       "       [0.00986 ],\n",
       "       [0.008835],\n",
       "       [0.008063],\n",
       "       [0.008616],\n",
       "       [0.009397],\n",
       "       [0.009369],\n",
       "       [0.009265],\n",
       "       [0.009067],\n",
       "       [0.009171],\n",
       "       [0.009098],\n",
       "       [0.00906 ],\n",
       "       [0.008166],\n",
       "       [0.008524],\n",
       "       [0.008579],\n",
       "       [0.008727],\n",
       "       [0.008383],\n",
       "       [0.008255],\n",
       "       [0.007482],\n",
       "       [0.012555],\n",
       "       [0.047162],\n",
       "       [0.028176],\n",
       "       [0.037196],\n",
       "       [0.034875],\n",
       "       [0.03152 ],\n",
       "       [0.03712 ]])"
      ]
     },
     "execution_count": 20,
     "metadata": {},
     "output_type": "execute_result"
    }
   ],
   "source": [
    "# Data set independente\n",
    "X = np.array(doge.drop([\"Prediction\"], 1)) #remove os valores da coluna, qual ira conter os dados que estamos procurando\n",
    "X = X[:len(doge)-predic_day -1] # remove a ultima linha da previsao, pois esta deve estar vazia, por nao conter mais dados a ser previstos\n",
    "X"
   ]
  },
  {
   "cell_type": "code",
   "execution_count": 21,
   "id": "fe56bea3-4b45-46c3-8407-3ea07cf36e41",
   "metadata": {
    "scrolled": true,
    "tags": []
   },
   "outputs": [
    {
     "data": {
      "text/plain": [
       "array([0.008255, 0.007482, 0.012555, 0.047162, 0.028176, 0.037196,\n",
       "       0.034875, 0.03152 , 0.03712 , 0.053289, 0.046935, 0.057595,\n",
       "       0.078782, 0.078825, 0.07007 , 0.072896, 0.069676, 0.070069,\n",
       "       0.06645 , 0.062537, 0.056591, 0.05352 , 0.049376, 0.059541,\n",
       "       0.055139, 0.054384, 0.05598 , 0.053725, 0.047392, 0.056555,\n",
       "       0.050167, 0.05048 , 0.050083, 0.048052])"
      ]
     },
     "execution_count": 21,
     "metadata": {},
     "output_type": "execute_result"
    }
   ],
   "source": [
    "#Data set dependende\n",
    "y = np.array(doge[\"Prediction\"]) # pega os dados da coluna Prediction\n",
    "y = y[:-predic_day -1] # pegar todos os daos menos o n+1 (N é o numero de dias)\n",
    "y"
   ]
  },
  {
   "cell_type": "code",
   "execution_count": 22,
   "id": "4596cdf3-a7d8-4f39-a552-1c86cfd35341",
   "metadata": {},
   "outputs": [],
   "source": [
    "from sklearn.model_selection import train_test_split # separa os dados de trainamento(80%) e dados de teste (20%).\n",
    "\n",
    "x_train, x_test, y_train, y_test = train_test_split(X,y, test_size = 0.20)"
   ]
  },
  {
   "cell_type": "code",
   "execution_count": 23,
   "id": "ae0ef0ab-c562-4d5c-a3c2-c414da73cc03",
   "metadata": {},
   "outputs": [
    {
     "name": "stdout",
     "output_type": "stream",
     "text": [
      "0.8654891511779887\n"
     ]
    }
   ],
   "source": [
    "from sklearn.ensemble import RandomForestRegressor #Importa os modulos para Random Forest Regressor, para utilizar no modelo\n",
    "\n",
    "forest = RandomForestRegressor(n_estimators= 2, random_state= 587)\n",
    "forest.fit(x_train, y_train)\n",
    "print(forest.score(x_train, y_train)) #mostra a pontuacao de confinca no modelo \n",
    "# Podemos reparar que a pontuacao do modelo comecou a ficar mais alta"
   ]
  },
  {
   "cell_type": "code",
   "execution_count": null,
   "id": "1a832898-dc7d-4e7e-a270-70b5ff96ccb2",
   "metadata": {},
   "outputs": [],
   "source": []
  },
  {
   "cell_type": "code",
   "execution_count": 24,
   "id": "cd3bb3e3-55a3-4a36-86de-ac300e20b952",
   "metadata": {},
   "outputs": [
    {
     "name": "stdout",
     "output_type": "stream",
     "text": [
      "Os valores previstos para Doge Coin sao: [0.048052 0.070069 0.070069 0.069676 0.070069 0.039341 0.037196]\n",
      "\n",
      "Os valores reais para Doge Coin sao: [0.050167 0.072896 0.078825 0.06645  0.07007  0.012555 0.007482]\n"
     ]
    }
   ],
   "source": [
    "# faz uma comparacao, mostrando o quao perto os dados previstos estao dos dados reais\n",
    "prediction = forest.predict(x_test)\n",
    "\n",
    "print(\"Os valores previstos para Doge Coin sao:\", prediction) # valores previstos\n",
    "\n",
    "print()\n",
    "\n",
    "print(\"Os valores reais para Doge Coin sao:\" , y_test) # valores reais\n"
   ]
  },
  {
   "cell_type": "code",
   "execution_count": 25,
   "id": "f1b8f3e5-c191-485c-9736-a09d56c929d5",
   "metadata": {},
   "outputs": [],
   "source": [
    "# Validacao, dados inda nao vistos pelo modelo\n",
    "temp_df = doge[:-predic_day] # pega os dados menos os ultimos 7, que sao os valores que o modelo deve prever\n",
    "\n",
    "\n",
    "# armazena os valores que serao utilizados na futura previsao, no caso os ultimos 7,\n",
    "# ja descontando os dados que retiramos da tabela na variavel acima.\n",
    "x_val = list(temp_df.tail(25)[\"Close\"])\n"
   ]
  },
  {
   "cell_type": "code",
   "execution_count": 26,
   "id": "08b5e483-8555-4523-9d92-69b63049e5ad",
   "metadata": {
    "scrolled": true,
    "tags": []
   },
   "outputs": [
    {
     "data": {
      "text/plain": [
       "[0.008834999985992908,\n",
       " 0.008062999695539474,\n",
       " 0.008616000413894653,\n",
       " 0.009397000074386597,\n",
       " 0.009368999861180782,\n",
       " 0.009265000000596046,\n",
       " 0.009066999889910221,\n",
       " 0.009170999750494957,\n",
       " 0.009097999893128872,\n",
       " 0.009060000069439411,\n",
       " 0.008166000247001648,\n",
       " 0.008523999713361263,\n",
       " 0.008578999899327755,\n",
       " 0.008727000094950199,\n",
       " 0.008383000269532204,\n",
       " 0.008255000226199627,\n",
       " 0.007482000160962343,\n",
       " 0.012555000372231007,\n",
       " 0.047162000089883804,\n",
       " 0.028176000341773033,\n",
       " 0.037195999175310135,\n",
       " 0.03487500175833702,\n",
       " 0.03152000159025192,\n",
       " 0.03711999952793121,\n",
       " 0.05328899994492531]"
      ]
     },
     "execution_count": 26,
     "metadata": {},
     "output_type": "execute_result"
    }
   ],
   "source": [
    "x_val #os ultimos 7 valores utilizados para realizar a previsao."
   ]
  },
  {
   "cell_type": "code",
   "execution_count": 27,
   "id": "cb39a2a7-80fc-449f-9517-66d0dc34f5ff",
   "metadata": {
    "scrolled": true,
    "tags": []
   },
   "outputs": [
    {
     "name": "stdout",
     "output_type": "stream",
     "text": [
      "Previsto: [0.046935]\n",
      "Previsto: [0.057595]\n",
      "Previsto: [0.064079]\n",
      "Previsto: [0.070069]\n",
      "Previsto: [0.070069]\n",
      "Previsto: [0.070069]\n",
      "Previsto: [0.069676]\n",
      "Previsto: [0.070069]\n",
      "Previsto: [0.069676]\n",
      "Previsto: [0.069676]\n",
      "Previsto: [0.057595]\n",
      "Previsto: [0.051448]\n",
      "Previsto: [0.049376]\n",
      "Previsto: [0.053238]\n",
      "Previsto: [0.055139]\n",
      "Previsto: [0.055139]\n",
      "Previsto: [0.05598]\n",
      "Previsto: [0.053725]\n",
      "Previsto: [0.047722]\n",
      "Previsto: [0.053319]\n",
      "Previsto: [0.048052]\n",
      "Previsto: [0.049266]\n",
      "Previsto: [0.050083]\n",
      "Previsto: [0.048052]\n",
      "Previsto: [0.047722]\n",
      "----------\n",
      "Preco Anterior Date\n",
      "2021-01-11    0.046935\n",
      "2021-01-12    0.057595\n",
      "2021-01-13    0.078782\n",
      "2021-01-14    0.078825\n",
      "2021-01-15    0.070070\n",
      "2021-01-16    0.072896\n",
      "2021-01-17    0.069676\n",
      "2021-01-18    0.070069\n",
      "2021-01-19    0.066450\n",
      "2021-01-20    0.062537\n",
      "2021-01-21    0.056591\n",
      "2021-01-22    0.053520\n",
      "2021-01-23    0.049376\n",
      "2021-01-24    0.059541\n",
      "2021-01-25    0.055139\n",
      "2021-01-26    0.054384\n",
      "2021-01-27    0.055980\n",
      "2021-01-28    0.053725\n",
      "2021-01-29    0.047392\n",
      "2021-01-30    0.056555\n",
      "2021-01-31    0.050167\n",
      "2021-02-01    0.050480\n",
      "2021-02-02    0.050083\n",
      "2021-02-03    0.048052\n",
      "2021-02-04    0.050599\n",
      "Name: Prediction, dtype: float64\n"
     ]
    }
   ],
   "source": [
    "#Predicao dos dados:\n",
    "valores_preditos = []\n",
    "for p in x_val: # percorre a lista de valores da variavel x_val, utilizando os valores da variavel para realizar a previsao\n",
    "    prediction = forest.predict([[p]])\n",
    "    valores_preditos.append(prediction)\n",
    "#previsao\n",
    "    print(\"Previsto:\" , prediction) #preco previsto para os proximos 7 dias\n",
    "print(\"-\"*10)\n",
    "print(\"Preco Anterior\", temp_df.tail(25)[\"Prediction\"]) "
   ]
  },
  {
   "cell_type": "code",
   "execution_count": null,
   "id": "cc3c9c75-8fbb-4b4d-8a75-02e47f494957",
   "metadata": {},
   "outputs": [],
   "source": []
  },
  {
   "cell_type": "code",
   "execution_count": null,
   "id": "abcc980a-5e55-48f7-ab57-63968fdaa4dd",
   "metadata": {},
   "outputs": [],
   "source": []
  },
  {
   "cell_type": "markdown",
   "id": "383cf2ec-e523-4c6f-92eb-36f06589336c",
   "metadata": {},
   "source": [
    "### Fevereiro 2021:"
   ]
  },
  {
   "cell_type": "code",
   "execution_count": 28,
   "id": "66b2237f-f671-4c74-9f3a-d21dae8d5dc0",
   "metadata": {},
   "outputs": [
    {
     "data": {
      "text/html": [
       "<div>\n",
       "<style scoped>\n",
       "    .dataframe tbody tr th:only-of-type {\n",
       "        vertical-align: middle;\n",
       "    }\n",
       "\n",
       "    .dataframe tbody tr th {\n",
       "        vertical-align: top;\n",
       "    }\n",
       "\n",
       "    .dataframe thead th {\n",
       "        text-align: right;\n",
       "    }\n",
       "</style>\n",
       "<table border=\"1\" class=\"dataframe\">\n",
       "  <thead>\n",
       "    <tr style=\"text-align: right;\">\n",
       "      <th></th>\n",
       "      <th>High</th>\n",
       "      <th>Low</th>\n",
       "      <th>Open</th>\n",
       "      <th>Close</th>\n",
       "      <th>Volume</th>\n",
       "      <th>Adj Close</th>\n",
       "    </tr>\n",
       "    <tr>\n",
       "      <th>Date</th>\n",
       "      <th></th>\n",
       "      <th></th>\n",
       "      <th></th>\n",
       "      <th></th>\n",
       "      <th></th>\n",
       "      <th></th>\n",
       "    </tr>\n",
       "  </thead>\n",
       "  <tbody>\n",
       "    <tr>\n",
       "      <th>2021-02-01</th>\n",
       "      <td>0.043250</td>\n",
       "      <td>0.033367</td>\n",
       "      <td>0.037054</td>\n",
       "      <td>0.034875</td>\n",
       "      <td>6319224026</td>\n",
       "      <td>0.034875</td>\n",
       "    </tr>\n",
       "    <tr>\n",
       "      <th>2021-02-02</th>\n",
       "      <td>0.034926</td>\n",
       "      <td>0.029195</td>\n",
       "      <td>0.034910</td>\n",
       "      <td>0.031520</td>\n",
       "      <td>3090896595</td>\n",
       "      <td>0.031520</td>\n",
       "    </tr>\n",
       "    <tr>\n",
       "      <th>2021-02-03</th>\n",
       "      <td>0.039105</td>\n",
       "      <td>0.031146</td>\n",
       "      <td>0.031493</td>\n",
       "      <td>0.037120</td>\n",
       "      <td>3146856788</td>\n",
       "      <td>0.037120</td>\n",
       "    </tr>\n",
       "    <tr>\n",
       "      <th>2021-02-04</th>\n",
       "      <td>0.057869</td>\n",
       "      <td>0.035945</td>\n",
       "      <td>0.037226</td>\n",
       "      <td>0.053289</td>\n",
       "      <td>13040837601</td>\n",
       "      <td>0.053289</td>\n",
       "    </tr>\n",
       "    <tr>\n",
       "      <th>2021-02-05</th>\n",
       "      <td>0.053740</td>\n",
       "      <td>0.043540</td>\n",
       "      <td>0.053043</td>\n",
       "      <td>0.046935</td>\n",
       "      <td>6136160058</td>\n",
       "      <td>0.046935</td>\n",
       "    </tr>\n",
       "  </tbody>\n",
       "</table>\n",
       "</div>"
      ],
      "text/plain": [
       "                High       Low      Open     Close       Volume  Adj Close\n",
       "Date                                                                      \n",
       "2021-02-01  0.043250  0.033367  0.037054  0.034875   6319224026   0.034875\n",
       "2021-02-02  0.034926  0.029195  0.034910  0.031520   3090896595   0.031520\n",
       "2021-02-03  0.039105  0.031146  0.031493  0.037120   3146856788   0.037120\n",
       "2021-02-04  0.057869  0.035945  0.037226  0.053289  13040837601   0.053289\n",
       "2021-02-05  0.053740  0.043540  0.053043  0.046935   6136160058   0.046935"
      ]
     },
     "execution_count": 28,
     "metadata": {},
     "output_type": "execute_result"
    }
   ],
   "source": [
    "df = web.DataReader('DOGE-USD', data_source='yahoo', start='2021-02-01', end='2021-03-31') \n",
    "df.head()"
   ]
  },
  {
   "cell_type": "code",
   "execution_count": 29,
   "id": "2b9b7d85-220c-469b-8b1e-11835b06c19e",
   "metadata": {},
   "outputs": [
    {
     "data": {
      "text/plain": [
       "<AxesSubplot:xlabel='Date'>"
      ]
     },
     "execution_count": 29,
     "metadata": {},
     "output_type": "execute_result"
    },
    {
     "data": {
      "image/png": "[encoded data removed]",
      "text/plain": [
       "<Figure size 432x288 with 1 Axes>"
      ]
     },
     "metadata": {
      "needs_background": "light"
     },
     "output_type": "display_data"
    }
   ],
   "source": [
    "doge = df\n",
    "doge.plot()"
   ]
  },
  {
   "cell_type": "code",
   "execution_count": 30,
   "id": "a9f00e08-4e7a-4dc0-a2e3-596db0ae5d03",
   "metadata": {},
   "outputs": [
    {
     "data": {
      "text/html": [
       "<div>\n",
       "<style scoped>\n",
       "    .dataframe tbody tr th:only-of-type {\n",
       "        vertical-align: middle;\n",
       "    }\n",
       "\n",
       "    .dataframe tbody tr th {\n",
       "        vertical-align: top;\n",
       "    }\n",
       "\n",
       "    .dataframe thead th {\n",
       "        text-align: right;\n",
       "    }\n",
       "</style>\n",
       "<table border=\"1\" class=\"dataframe\">\n",
       "  <thead>\n",
       "    <tr style=\"text-align: right;\">\n",
       "      <th></th>\n",
       "      <th>Close</th>\n",
       "    </tr>\n",
       "    <tr>\n",
       "      <th>Date</th>\n",
       "      <th></th>\n",
       "    </tr>\n",
       "  </thead>\n",
       "  <tbody>\n",
       "    <tr>\n",
       "      <th>2021-02-01</th>\n",
       "      <td>0.034875</td>\n",
       "    </tr>\n",
       "    <tr>\n",
       "      <th>2021-02-02</th>\n",
       "      <td>0.031520</td>\n",
       "    </tr>\n",
       "    <tr>\n",
       "      <th>2021-02-03</th>\n",
       "      <td>0.037120</td>\n",
       "    </tr>\n",
       "    <tr>\n",
       "      <th>2021-02-04</th>\n",
       "      <td>0.053289</td>\n",
       "    </tr>\n",
       "    <tr>\n",
       "      <th>2021-02-05</th>\n",
       "      <td>0.046935</td>\n",
       "    </tr>\n",
       "  </tbody>\n",
       "</table>\n",
       "</div>"
      ],
      "text/plain": [
       "               Close\n",
       "Date                \n",
       "2021-02-01  0.034875\n",
       "2021-02-02  0.031520\n",
       "2021-02-03  0.037120\n",
       "2021-02-04  0.053289\n",
       "2021-02-05  0.046935"
      ]
     },
     "execution_count": 30,
     "metadata": {},
     "output_type": "execute_result"
    }
   ],
   "source": [
    "doge = doge.loc[: ,[\"Close\"]] # Utilizamos o preco de fechamento do dia anterior como refencia\n",
    "doge.head()"
   ]
  },
  {
   "cell_type": "code",
   "execution_count": 31,
   "id": "6d55b9b4-b781-4db1-92af-122f361d3903",
   "metadata": {},
   "outputs": [],
   "source": [
    "# Prever n dias no futuro\n",
    "predic_day = 25 #7 dias\n",
    "\n",
    "# cria uma coluna previsao com dados dos proximos 7. A coluna vai servir para ser utilizada na previsao apos a separacao das bases de teste e treinamento\n",
    "# os dados contidos na coluna Prediction estao 7 dias a frente da doluna Close.\n",
    "doge[\"Prediction\"] = doge[[\"Close\"]].shift(-predic_day)"
   ]
  },
  {
   "cell_type": "code",
   "execution_count": 32,
   "id": "6a74202e-955a-4ca1-b6cb-ae49cac26745",
   "metadata": {},
   "outputs": [
    {
     "data": {
      "text/html": [
       "<div>\n",
       "<style scoped>\n",
       "    .dataframe tbody tr th:only-of-type {\n",
       "        vertical-align: middle;\n",
       "    }\n",
       "\n",
       "    .dataframe tbody tr th {\n",
       "        vertical-align: top;\n",
       "    }\n",
       "\n",
       "    .dataframe thead th {\n",
       "        text-align: right;\n",
       "    }\n",
       "</style>\n",
       "<table border=\"1\" class=\"dataframe\">\n",
       "  <thead>\n",
       "    <tr style=\"text-align: right;\">\n",
       "      <th></th>\n",
       "      <th>Close</th>\n",
       "      <th>Prediction</th>\n",
       "    </tr>\n",
       "    <tr>\n",
       "      <th>Date</th>\n",
       "      <th></th>\n",
       "      <th></th>\n",
       "    </tr>\n",
       "  </thead>\n",
       "  <tbody>\n",
       "    <tr>\n",
       "      <th>2021-02-01</th>\n",
       "      <td>0.034875</td>\n",
       "      <td>0.050480</td>\n",
       "    </tr>\n",
       "    <tr>\n",
       "      <th>2021-02-02</th>\n",
       "      <td>0.031520</td>\n",
       "      <td>0.050083</td>\n",
       "    </tr>\n",
       "    <tr>\n",
       "      <th>2021-02-03</th>\n",
       "      <td>0.037120</td>\n",
       "      <td>0.048052</td>\n",
       "    </tr>\n",
       "    <tr>\n",
       "      <th>2021-02-04</th>\n",
       "      <td>0.053289</td>\n",
       "      <td>0.050599</td>\n",
       "    </tr>\n",
       "    <tr>\n",
       "      <th>2021-02-05</th>\n",
       "      <td>0.046935</td>\n",
       "      <td>0.050262</td>\n",
       "    </tr>\n",
       "  </tbody>\n",
       "</table>\n",
       "</div>"
      ],
      "text/plain": [
       "               Close  Prediction\n",
       "Date                            \n",
       "2021-02-01  0.034875    0.050480\n",
       "2021-02-02  0.031520    0.050083\n",
       "2021-02-03  0.037120    0.048052\n",
       "2021-02-04  0.053289    0.050599\n",
       "2021-02-05  0.046935    0.050262"
      ]
     },
     "execution_count": 32,
     "metadata": {},
     "output_type": "execute_result"
    }
   ],
   "source": [
    "doge.head()"
   ]
  },
  {
   "cell_type": "code",
   "execution_count": 33,
   "id": "2600e10e-dd0c-4441-bcba-5163612ba48c",
   "metadata": {
    "scrolled": true,
    "tags": []
   },
   "outputs": [
    {
     "data": {
      "text/plain": [
       "array([[0.034875],\n",
       "       [0.03152 ],\n",
       "       [0.03712 ],\n",
       "       [0.053289],\n",
       "       [0.046935],\n",
       "       [0.057595],\n",
       "       [0.078782],\n",
       "       [0.078825],\n",
       "       [0.07007 ],\n",
       "       [0.072896],\n",
       "       [0.069676],\n",
       "       [0.070069],\n",
       "       [0.06645 ],\n",
       "       [0.062537],\n",
       "       [0.056591],\n",
       "       [0.05352 ],\n",
       "       [0.049376],\n",
       "       [0.059541],\n",
       "       [0.055139],\n",
       "       [0.054384],\n",
       "       [0.05598 ],\n",
       "       [0.053725],\n",
       "       [0.047392],\n",
       "       [0.056555],\n",
       "       [0.050167],\n",
       "       [0.05048 ],\n",
       "       [0.050083],\n",
       "       [0.048052],\n",
       "       [0.050599],\n",
       "       [0.050262],\n",
       "       [0.050592],\n",
       "       [0.050048],\n",
       "       [0.049609],\n",
       "       [0.050984]])"
      ]
     },
     "execution_count": 33,
     "metadata": {},
     "output_type": "execute_result"
    }
   ],
   "source": [
    "# Data set independente\n",
    "X = np.array(doge.drop([\"Prediction\"], 1)) #remove os valores da coluna, qual ira conter os dados que estamos procurando\n",
    "X = X[:len(doge)-predic_day -1] # remove a ultima linha da previsao, pois esta deve estar vazia, por nao conter mais dados a ser previstos\n",
    "X"
   ]
  },
  {
   "cell_type": "code",
   "execution_count": 34,
   "id": "52752be8-2889-4a0d-be4f-e7490c817d7b",
   "metadata": {
    "scrolled": true,
    "tags": []
   },
   "outputs": [
    {
     "data": {
      "text/plain": [
       "array([0.05048 , 0.050083, 0.048052, 0.050599, 0.050262, 0.050592,\n",
       "       0.050048, 0.049609, 0.050984, 0.052122, 0.061949, 0.057998,\n",
       "       0.056004, 0.055918, 0.055349, 0.062432, 0.058592, 0.057088,\n",
       "       0.058607, 0.057653, 0.057383, 0.058328, 0.058961, 0.057234,\n",
       "       0.054962, 0.053556, 0.051702, 0.051448, 0.053952, 0.054377,\n",
       "       0.053698, 0.054052, 0.0539  , 0.053657])"
      ]
     },
     "execution_count": 34,
     "metadata": {},
     "output_type": "execute_result"
    }
   ],
   "source": [
    "#Data set dependende\n",
    "y = np.array(doge[\"Prediction\"]) # pega os dados da coluna Prediction\n",
    "y = y[:-predic_day -1] # pegar todos os daos menos o n+1 (N é o numero de dias)\n",
    "y"
   ]
  },
  {
   "cell_type": "code",
   "execution_count": 35,
   "id": "8935c996-f03e-4033-aa14-bdde7867a03d",
   "metadata": {},
   "outputs": [],
   "source": [
    "from sklearn.model_selection import train_test_split # separa os dados de trainamento(80%) e dados de teste (20%).\n",
    "\n",
    "x_train, x_test, y_train, y_test = train_test_split(X,y, test_size = 0.20)"
   ]
  },
  {
   "cell_type": "code",
   "execution_count": 36,
   "id": "6cf1cf03-9ad0-41ac-8680-c889f02e2ba2",
   "metadata": {},
   "outputs": [
    {
     "name": "stdout",
     "output_type": "stream",
     "text": [
      "0.7622685021987228\n"
     ]
    }
   ],
   "source": [
    "from sklearn.ensemble import RandomForestRegressor #Importa os modulos para Random Forest Regressor, para utilizar no modelo\n",
    "\n",
    "forest = RandomForestRegressor(n_estimators= 2, random_state= 587)\n",
    "forest.fit(x_train, y_train)\n",
    "print(forest.score(x_train, y_train)) #mostra a pontuacao de confinca no modelo "
   ]
  },
  {
   "cell_type": "code",
   "execution_count": null,
   "id": "d2436a71-3f89-473d-bd08-c7a2a6ccbc04",
   "metadata": {},
   "outputs": [],
   "source": []
  },
  {
   "cell_type": "code",
   "execution_count": 37,
   "id": "a4662431-95c0-4d41-99c9-808a2c78f6e7",
   "metadata": {},
   "outputs": [
    {
     "name": "stdout",
     "output_type": "stream",
     "text": [
      "Os valores previstos para Doge Coin sao: [0.051702  0.051553  0.0538045 0.058592  0.0490675 0.054457  0.050262 ]\n",
      "\n",
      "Os valores reais para Doge Coin sao: [0.054052 0.057998 0.053698 0.0539   0.05048  0.053556 0.058961]\n"
     ]
    }
   ],
   "source": [
    "# faz uma comparacao, mostrando o quao perto os dados previstos estao dos dados reais\n",
    "prediction = forest.predict(x_test)\n",
    "\n",
    "print(\"Os valores previstos para Doge Coin sao:\", prediction) # valores previstos\n",
    "\n",
    "print()\n",
    "\n",
    "print(\"Os valores reais para Doge Coin sao:\" , y_test) # valores reais\n"
   ]
  },
  {
   "cell_type": "code",
   "execution_count": 38,
   "id": "c1f4e732-9a78-4978-921d-9fbd08fcd876",
   "metadata": {},
   "outputs": [],
   "source": [
    "# Validacao, dados inda nao vistos pelo modelo\n",
    "temp_df = doge[:-predic_day] # pega os dados menos os ultimos 7, que sao os valores que o modelo deve prever\n",
    "\n",
    "\n",
    "# armazena os valores que serao utilizados na futura previsao, no caso os ultimos 7,\n",
    "# ja descontando os dados que retiramos da tabela na variavel acima.\n",
    "x_val = list(temp_df.tail(25)[\"Close\"])\n"
   ]
  },
  {
   "cell_type": "code",
   "execution_count": 39,
   "id": "b00f1b7b-0c16-43c3-adab-43822bfbf174",
   "metadata": {},
   "outputs": [
    {
     "data": {
      "text/plain": [
       "[0.0696759968996048,\n",
       " 0.07006900012493134,\n",
       " 0.06644999980926514,\n",
       " 0.06253699958324432,\n",
       " 0.05659100040793419,\n",
       " 0.05352000147104263,\n",
       " 0.049375999718904495,\n",
       " 0.0595409981906414,\n",
       " 0.055139001458883286,\n",
       " 0.05438400059938431,\n",
       " 0.055980000644922256,\n",
       " 0.053725000470876694,\n",
       " 0.04739199951291084,\n",
       " 0.05655499920248985,\n",
       " 0.05016700178384781,\n",
       " 0.05048000067472458,\n",
       " 0.05008300021290779,\n",
       " 0.04805200174450874,\n",
       " 0.050599001348018646,\n",
       " 0.050262000411748886,\n",
       " 0.050592001527547836,\n",
       " 0.05004800111055374,\n",
       " 0.049609001725912094,\n",
       " 0.05098399892449379,\n",
       " 0.052122000604867935]"
      ]
     },
     "execution_count": 39,
     "metadata": {},
     "output_type": "execute_result"
    }
   ],
   "source": [
    "x_val #os ultimos 7 valores utilizados para realizar a previsao."
   ]
  },
  {
   "cell_type": "code",
   "execution_count": 40,
   "id": "ae719a48-b6cc-45c4-9230-b74ef704afd9",
   "metadata": {},
   "outputs": [
    {
     "name": "stdout",
     "output_type": "stream",
     "text": [
      "Previsto: [0.0570355]\n",
      "Previsto: [0.051553]\n",
      "Previsto: [0.056004]\n",
      "Previsto: [0.055918]\n",
      "Previsto: [0.057383]\n",
      "Previsto: [0.058328]\n",
      "Previsto: [0.058592]\n",
      "Previsto: [0.056503]\n",
      "Previsto: [0.058607]\n",
      "Previsto: [0.0579905]\n",
      "Previsto: [0.057383]\n",
      "Previsto: [0.058328]\n",
      "Previsto: [0.050262]\n",
      "Previsto: [0.057383]\n",
      "Previsto: [0.054962]\n",
      "Previsto: [0.054457]\n",
      "Previsto: [0.051702]\n",
      "Previsto: [0.051448]\n",
      "Previsto: [0.0538045]\n",
      "Previsto: [0.054962]\n",
      "Previsto: [0.0538045]\n",
      "Previsto: [0.051702]\n",
      "Previsto: [0.058592]\n",
      "Previsto: [0.0538045]\n",
      "Previsto: [0.052128]\n",
      "----------\n",
      "Preco Anterior Date\n",
      "2021-02-11    0.061949\n",
      "2021-02-12    0.057998\n",
      "2021-02-13    0.056004\n",
      "2021-02-14    0.055918\n",
      "2021-02-15    0.055349\n",
      "2021-02-16    0.062432\n",
      "2021-02-17    0.058592\n",
      "2021-02-18    0.057088\n",
      "2021-02-19    0.058607\n",
      "2021-02-20    0.057653\n",
      "2021-02-21    0.057383\n",
      "2021-02-22    0.058328\n",
      "2021-02-23    0.058961\n",
      "2021-02-24    0.057234\n",
      "2021-02-25    0.054962\n",
      "2021-02-26    0.053556\n",
      "2021-02-27    0.051702\n",
      "2021-02-28    0.051448\n",
      "2021-03-01    0.053952\n",
      "2021-03-02    0.054377\n",
      "2021-03-03    0.053698\n",
      "2021-03-04    0.054052\n",
      "2021-03-05    0.053900\n",
      "2021-03-06    0.053657\n",
      "2021-03-07    0.061986\n",
      "Name: Prediction, dtype: float64\n"
     ]
    }
   ],
   "source": [
    "#Predicao dos dados:\n",
    "valores_preditos = []\n",
    "for p in x_val: # percorre a lista de valores da variavel x_val, utilizando os valores da variavel para realizar a previsao\n",
    "    prediction = forest.predict([[p]])\n",
    "    valores_preditos.append(prediction)\n",
    "#previsao\n",
    "    print(\"Previsto:\" , prediction) #preco previsto para os proximos 7 dias\n",
    "print(\"-\"*10)\n",
    "print(\"Preco Anterior\", temp_df.tail(25)[\"Prediction\"]) "
   ]
  },
  {
   "cell_type": "code",
   "execution_count": null,
   "id": "7baaccf6-2f21-4cdc-b74d-69f24a372d56",
   "metadata": {},
   "outputs": [],
   "source": []
  },
  {
   "cell_type": "code",
   "execution_count": null,
   "id": "15a9c712-57c3-4946-b9f1-314855fdda8e",
   "metadata": {},
   "outputs": [],
   "source": []
  },
  {
   "cell_type": "markdown",
   "id": "0e76f56e-38c9-444a-850a-2f805e0c34cc",
   "metadata": {},
   "source": [
    "### Marco 2021:"
   ]
  },
  {
   "cell_type": "code",
   "execution_count": 41,
   "id": "c8bd49f0-395b-41e2-a1d1-ff1983f44bae",
   "metadata": {},
   "outputs": [
    {
     "data": {
      "text/html": [
       "<div>\n",
       "<style scoped>\n",
       "    .dataframe tbody tr th:only-of-type {\n",
       "        vertical-align: middle;\n",
       "    }\n",
       "\n",
       "    .dataframe tbody tr th {\n",
       "        vertical-align: top;\n",
       "    }\n",
       "\n",
       "    .dataframe thead th {\n",
       "        text-align: right;\n",
       "    }\n",
       "</style>\n",
       "<table border=\"1\" class=\"dataframe\">\n",
       "  <thead>\n",
       "    <tr style=\"text-align: right;\">\n",
       "      <th></th>\n",
       "      <th>High</th>\n",
       "      <th>Low</th>\n",
       "      <th>Open</th>\n",
       "      <th>Close</th>\n",
       "      <th>Volume</th>\n",
       "      <th>Adj Close</th>\n",
       "    </tr>\n",
       "    <tr>\n",
       "      <th>Date</th>\n",
       "      <th></th>\n",
       "      <th></th>\n",
       "      <th></th>\n",
       "      <th></th>\n",
       "      <th></th>\n",
       "      <th></th>\n",
       "    </tr>\n",
       "  </thead>\n",
       "  <tbody>\n",
       "    <tr>\n",
       "      <th>2021-03-01</th>\n",
       "      <td>0.051479</td>\n",
       "      <td>0.048029</td>\n",
       "      <td>0.048070</td>\n",
       "      <td>0.050599</td>\n",
       "      <td>1494427207</td>\n",
       "      <td>0.050599</td>\n",
       "    </tr>\n",
       "    <tr>\n",
       "      <th>2021-03-02</th>\n",
       "      <td>0.052382</td>\n",
       "      <td>0.049299</td>\n",
       "      <td>0.050596</td>\n",
       "      <td>0.050262</td>\n",
       "      <td>1346282318</td>\n",
       "      <td>0.050262</td>\n",
       "    </tr>\n",
       "    <tr>\n",
       "      <th>2021-03-03</th>\n",
       "      <td>0.052126</td>\n",
       "      <td>0.050078</td>\n",
       "      <td>0.050278</td>\n",
       "      <td>0.050592</td>\n",
       "      <td>1093877445</td>\n",
       "      <td>0.050592</td>\n",
       "    </tr>\n",
       "    <tr>\n",
       "      <th>2021-03-04</th>\n",
       "      <td>0.051087</td>\n",
       "      <td>0.047879</td>\n",
       "      <td>0.050587</td>\n",
       "      <td>0.050048</td>\n",
       "      <td>1170617084</td>\n",
       "      <td>0.050048</td>\n",
       "    </tr>\n",
       "    <tr>\n",
       "      <th>2021-03-05</th>\n",
       "      <td>0.050854</td>\n",
       "      <td>0.048147</td>\n",
       "      <td>0.050028</td>\n",
       "      <td>0.049609</td>\n",
       "      <td>1173113591</td>\n",
       "      <td>0.049609</td>\n",
       "    </tr>\n",
       "  </tbody>\n",
       "</table>\n",
       "</div>"
      ],
      "text/plain": [
       "                High       Low      Open     Close      Volume  Adj Close\n",
       "Date                                                                     \n",
       "2021-03-01  0.051479  0.048029  0.048070  0.050599  1494427207   0.050599\n",
       "2021-03-02  0.052382  0.049299  0.050596  0.050262  1346282318   0.050262\n",
       "2021-03-03  0.052126  0.050078  0.050278  0.050592  1093877445   0.050592\n",
       "2021-03-04  0.051087  0.047879  0.050587  0.050048  1170617084   0.050048\n",
       "2021-03-05  0.050854  0.048147  0.050028  0.049609  1173113591   0.049609"
      ]
     },
     "execution_count": 41,
     "metadata": {},
     "output_type": "execute_result"
    }
   ],
   "source": [
    "df = web.DataReader('DOGE-USD', data_source='yahoo', start='2021-03-01', end='2021-04-30') \n",
    "df.head()"
   ]
  },
  {
   "cell_type": "code",
   "execution_count": 42,
   "id": "9b34ff76-edfa-4e9b-aa97-92e1c8ef71f0",
   "metadata": {},
   "outputs": [
    {
     "data": {
      "text/plain": [
       "<AxesSubplot:xlabel='Date'>"
      ]
     },
     "execution_count": 42,
     "metadata": {},
     "output_type": "execute_result"
    },
    {
     "data": {
      "image/png": "[encoded data removed]",
      "text/plain": [
       "<Figure size 432x288 with 1 Axes>"
      ]
     },
     "metadata": {
      "needs_background": "light"
     },
     "output_type": "display_data"
    }
   ],
   "source": [
    "doge = df\n",
    "doge.plot()"
   ]
  },
  {
   "cell_type": "code",
   "execution_count": 43,
   "id": "8936351e-b10f-4dad-9274-67183f3d98ea",
   "metadata": {},
   "outputs": [
    {
     "data": {
      "text/html": [
       "<div>\n",
       "<style scoped>\n",
       "    .dataframe tbody tr th:only-of-type {\n",
       "        vertical-align: middle;\n",
       "    }\n",
       "\n",
       "    .dataframe tbody tr th {\n",
       "        vertical-align: top;\n",
       "    }\n",
       "\n",
       "    .dataframe thead th {\n",
       "        text-align: right;\n",
       "    }\n",
       "</style>\n",
       "<table border=\"1\" class=\"dataframe\">\n",
       "  <thead>\n",
       "    <tr style=\"text-align: right;\">\n",
       "      <th></th>\n",
       "      <th>Close</th>\n",
       "    </tr>\n",
       "    <tr>\n",
       "      <th>Date</th>\n",
       "      <th></th>\n",
       "    </tr>\n",
       "  </thead>\n",
       "  <tbody>\n",
       "    <tr>\n",
       "      <th>2021-03-01</th>\n",
       "      <td>0.050599</td>\n",
       "    </tr>\n",
       "    <tr>\n",
       "      <th>2021-03-02</th>\n",
       "      <td>0.050262</td>\n",
       "    </tr>\n",
       "    <tr>\n",
       "      <th>2021-03-03</th>\n",
       "      <td>0.050592</td>\n",
       "    </tr>\n",
       "    <tr>\n",
       "      <th>2021-03-04</th>\n",
       "      <td>0.050048</td>\n",
       "    </tr>\n",
       "    <tr>\n",
       "      <th>2021-03-05</th>\n",
       "      <td>0.049609</td>\n",
       "    </tr>\n",
       "  </tbody>\n",
       "</table>\n",
       "</div>"
      ],
      "text/plain": [
       "               Close\n",
       "Date                \n",
       "2021-03-01  0.050599\n",
       "2021-03-02  0.050262\n",
       "2021-03-03  0.050592\n",
       "2021-03-04  0.050048\n",
       "2021-03-05  0.049609"
      ]
     },
     "execution_count": 43,
     "metadata": {},
     "output_type": "execute_result"
    }
   ],
   "source": [
    "doge = doge.loc[: ,[\"Close\"]] # Utilizamos o preco de fechamento do dia anterior como refencia\n",
    "doge.head()"
   ]
  },
  {
   "cell_type": "code",
   "execution_count": 44,
   "id": "2a7ddd63-ab51-4a27-972f-ad22025d6f94",
   "metadata": {},
   "outputs": [],
   "source": [
    "# Prever n dias no futuro\n",
    "predic_day = 25 #7 dias\n",
    "\n",
    "# cria uma coluna previsao com dados dos proximos 7. A coluna vai servir para ser utilizada na previsao apos a separacao das bases de teste e treinamento\n",
    "# os dados contidos na coluna Prediction estao 7 dias a frente da doluna Close.\n",
    "doge[\"Prediction\"] = doge[[\"Close\"]].shift(-predic_day)"
   ]
  },
  {
   "cell_type": "code",
   "execution_count": 45,
   "id": "171f97cd-303d-4900-8b63-8b0a1f5e1f3b",
   "metadata": {},
   "outputs": [
    {
     "data": {
      "text/html": [
       "<div>\n",
       "<style scoped>\n",
       "    .dataframe tbody tr th:only-of-type {\n",
       "        vertical-align: middle;\n",
       "    }\n",
       "\n",
       "    .dataframe tbody tr th {\n",
       "        vertical-align: top;\n",
       "    }\n",
       "\n",
       "    .dataframe thead th {\n",
       "        text-align: right;\n",
       "    }\n",
       "</style>\n",
       "<table border=\"1\" class=\"dataframe\">\n",
       "  <thead>\n",
       "    <tr style=\"text-align: right;\">\n",
       "      <th></th>\n",
       "      <th>Close</th>\n",
       "      <th>Prediction</th>\n",
       "    </tr>\n",
       "    <tr>\n",
       "      <th>Date</th>\n",
       "      <th></th>\n",
       "      <th></th>\n",
       "    </tr>\n",
       "  </thead>\n",
       "  <tbody>\n",
       "    <tr>\n",
       "      <th>2021-03-01</th>\n",
       "      <td>0.050599</td>\n",
       "      <td>0.053952</td>\n",
       "    </tr>\n",
       "    <tr>\n",
       "      <th>2021-03-02</th>\n",
       "      <td>0.050262</td>\n",
       "      <td>0.054377</td>\n",
       "    </tr>\n",
       "    <tr>\n",
       "      <th>2021-03-03</th>\n",
       "      <td>0.050592</td>\n",
       "      <td>0.053698</td>\n",
       "    </tr>\n",
       "    <tr>\n",
       "      <th>2021-03-04</th>\n",
       "      <td>0.050048</td>\n",
       "      <td>0.054052</td>\n",
       "    </tr>\n",
       "    <tr>\n",
       "      <th>2021-03-05</th>\n",
       "      <td>0.049609</td>\n",
       "      <td>0.053900</td>\n",
       "    </tr>\n",
       "  </tbody>\n",
       "</table>\n",
       "</div>"
      ],
      "text/plain": [
       "               Close  Prediction\n",
       "Date                            \n",
       "2021-03-01  0.050599    0.053952\n",
       "2021-03-02  0.050262    0.054377\n",
       "2021-03-03  0.050592    0.053698\n",
       "2021-03-04  0.050048    0.054052\n",
       "2021-03-05  0.049609    0.053900"
      ]
     },
     "execution_count": 45,
     "metadata": {},
     "output_type": "execute_result"
    }
   ],
   "source": [
    "doge.head()"
   ]
  },
  {
   "cell_type": "code",
   "execution_count": 46,
   "id": "0a71a2be-0e33-4813-8a98-47033b6168d1",
   "metadata": {
    "scrolled": true,
    "tags": []
   },
   "outputs": [
    {
     "data": {
      "text/plain": [
       "array([[0.050599],\n",
       "       [0.050262],\n",
       "       [0.050592],\n",
       "       [0.050048],\n",
       "       [0.049609],\n",
       "       [0.050984],\n",
       "       [0.052122],\n",
       "       [0.061949],\n",
       "       [0.057998],\n",
       "       [0.056004],\n",
       "       [0.055918],\n",
       "       [0.055349],\n",
       "       [0.062432],\n",
       "       [0.058592],\n",
       "       [0.057088],\n",
       "       [0.058607],\n",
       "       [0.057653],\n",
       "       [0.057383],\n",
       "       [0.058328],\n",
       "       [0.058961],\n",
       "       [0.057234],\n",
       "       [0.054962],\n",
       "       [0.053556],\n",
       "       [0.051702],\n",
       "       [0.051448],\n",
       "       [0.053952],\n",
       "       [0.054377],\n",
       "       [0.053698],\n",
       "       [0.054052],\n",
       "       [0.0539  ],\n",
       "       [0.053657],\n",
       "       [0.061986],\n",
       "       [0.057664],\n",
       "       [0.055804],\n",
       "       [0.057404],\n",
       "       [0.059696]])"
      ]
     },
     "execution_count": 46,
     "metadata": {},
     "output_type": "execute_result"
    }
   ],
   "source": [
    "# Data set independente\n",
    "X = np.array(doge.drop([\"Prediction\"], 1)) #remove os valores da coluna, qual ira conter os dados que estamos procurando\n",
    "X = X[:len(doge)-predic_day -1] # remove a ultima linha da previsao, pois esta deve estar vazia, por nao conter mais dados a ser previstos\n",
    "X"
   ]
  },
  {
   "cell_type": "code",
   "execution_count": 47,
   "id": "2240c6a6-09f3-4d0a-85e8-b9496a98280c",
   "metadata": {
    "scrolled": true,
    "tags": []
   },
   "outputs": [
    {
     "data": {
      "text/plain": [
       "array([0.053952  , 0.054377  , 0.053698  , 0.054052  , 0.0539    ,\n",
       "       0.053657  , 0.061986  , 0.057664  , 0.055804  , 0.057404  ,\n",
       "       0.059696  , 0.064458  , 0.059028  , 0.061464  , 0.061684  ,\n",
       "       0.063845  , 0.074649  , 0.070767  , 0.093445  , 0.121517  ,\n",
       "       0.182207  , 0.36587   , 0.28417301, 0.32047501, 0.407318  ,\n",
       "       0.3195    , 0.306925  , 0.26096699, 0.248509  , 0.27021199,\n",
       "       0.251111  , 0.27067399, 0.27218801, 0.32368201, 0.30516899,\n",
       "       0.33756101])"
      ]
     },
     "execution_count": 47,
     "metadata": {},
     "output_type": "execute_result"
    }
   ],
   "source": [
    "#Data set dependende\n",
    "y = np.array(doge[\"Prediction\"]) # pega os dados da coluna Prediction\n",
    "y = y[:-predic_day -1] # pegar todos os daos menos o n+1 (N é o numero de dias)\n",
    "y"
   ]
  },
  {
   "cell_type": "code",
   "execution_count": 48,
   "id": "8f61ff17-8ef6-4a0d-ac53-fe6eedc3db26",
   "metadata": {},
   "outputs": [],
   "source": [
    "from sklearn.model_selection import train_test_split # separa os dados de trainamento(80%) e dados de teste (20%).\n",
    "\n",
    "x_train, x_test, y_train, y_test = train_test_split(X,y, test_size = 0.20)"
   ]
  },
  {
   "cell_type": "code",
   "execution_count": 49,
   "id": "ea6d47c2-274e-4e24-a817-852c8d365e03",
   "metadata": {},
   "outputs": [
    {
     "name": "stdout",
     "output_type": "stream",
     "text": [
      "0.6796212904483576\n"
     ]
    }
   ],
   "source": [
    "from sklearn.ensemble import RandomForestRegressor #Importa os modulos para Random Forest Regressor, para utilizar no modelo\n",
    "\n",
    "forest = RandomForestRegressor(n_estimators= 2, random_state= 587)\n",
    "forest.fit(x_train, y_train)\n",
    "print(forest.score(x_train, y_train)) #mostra a pontuacao de confinca no modelo "
   ]
  },
  {
   "cell_type": "code",
   "execution_count": null,
   "id": "75856564-3401-4b20-a232-b84f67d5f24a",
   "metadata": {},
   "outputs": [],
   "source": []
  },
  {
   "cell_type": "code",
   "execution_count": 50,
   "id": "7389f3ef-7a32-4fd8-a081-80886eac83d2",
   "metadata": {},
   "outputs": [
    {
     "name": "stdout",
     "output_type": "stream",
     "text": [
      "Os valores previstos para Doge Coin sao: [0.407318  0.3195    0.230635  0.230635  0.058346  0.078645  0.2853055\n",
      " 0.407318 ]\n",
      "\n",
      "Os valores reais para Doge Coin sao: [0.061986   0.27021199 0.053657   0.053698   0.27067399 0.061464\n",
      " 0.28417301 0.32047501]\n"
     ]
    }
   ],
   "source": [
    "# faz uma comparacao, mostrando o quao perto os dados previstos estao dos dados reais\n",
    "prediction = forest.predict(x_test)\n",
    "\n",
    "print(\"Os valores previstos para Doge Coin sao:\", prediction) # valores previstos\n",
    "\n",
    "print()\n",
    "\n",
    "print(\"Os valores reais para Doge Coin sao:\" , y_test) # valores reais\n"
   ]
  },
  {
   "cell_type": "code",
   "execution_count": 51,
   "id": "f6df6b50-0fbb-4c14-81ea-ede7fecafa8f",
   "metadata": {},
   "outputs": [],
   "source": [
    "# Validacao, dados inda nao vistos pelo modelo\n",
    "temp_df = doge[:-predic_day] # pega os dados menos os ultimos 7, que sao os valores que o modelo deve prever\n",
    "\n",
    "\n",
    "# armazena os valores que serao utilizados na futura previsao, no caso os ultimos 7,\n",
    "# ja descontando os dados que retiramos da tabela na variavel acima.\n",
    "x_val = list(temp_df.tail(25)[\"Close\"])\n"
   ]
  },
  {
   "cell_type": "code",
   "execution_count": 52,
   "id": "1dc776a9-6f2d-4af7-8cc4-b4f784aa872f",
   "metadata": {},
   "outputs": [
    {
     "data": {
      "text/plain": [
       "[0.062431998550891876,\n",
       " 0.05859199911355972,\n",
       " 0.05708799883723259,\n",
       " 0.05860700085759163,\n",
       " 0.057652998715639114,\n",
       " 0.05738300085067749,\n",
       " 0.05832799896597862,\n",
       " 0.05896100029349327,\n",
       " 0.05723400041460991,\n",
       " 0.054962001740932465,\n",
       " 0.05355599895119667,\n",
       " 0.051702000200748444,\n",
       " 0.051447998732328415,\n",
       " 0.05395200103521347,\n",
       " 0.0543770007789135,\n",
       " 0.05369799956679344,\n",
       " 0.054051999002695084,\n",
       " 0.05389999970793724,\n",
       " 0.05365699902176857,\n",
       " 0.06198599934577942,\n",
       " 0.05766399949789047,\n",
       " 0.05580399930477142,\n",
       " 0.05740400031208992,\n",
       " 0.059696000069379807,\n",
       " 0.06445799767971039]"
      ]
     },
     "execution_count": 52,
     "metadata": {},
     "output_type": "execute_result"
    }
   ],
   "source": [
    "x_val #os ultimos 7 valores utilizados para realizar a previsao."
   ]
  },
  {
   "cell_type": "code",
   "execution_count": 53,
   "id": "a52c2b2e-feaa-46ed-b8f3-e8b4e2d6b93a",
   "metadata": {},
   "outputs": [
    {
     "name": "stdout",
     "output_type": "stream",
     "text": [
      "Previsto: [0.059028]\n",
      "Previsto: [0.078645]\n",
      "Previsto: [0.061684]\n",
      "Previsto: [0.078645]\n",
      "Previsto: [0.1734185]\n",
      "Previsto: [0.30516899]\n",
      "Previsto: [0.078645]\n",
      "Previsto: [0.121517]\n",
      "Previsto: [0.182207]\n",
      "Previsto: [0.36587]\n",
      "Previsto: [0.2853055]\n",
      "Previsto: [0.407318]\n",
      "Previsto: [0.407318]\n",
      "Previsto: [0.3195]\n",
      "Previsto: [0.306925]\n",
      "Previsto: [0.29023349]\n",
      "Previsto: [0.3195]\n",
      "Previsto: [0.3195]\n",
      "Previsto: [0.2853055]\n",
      "Previsto: [0.058346]\n",
      "Previsto: [0.27218801]\n",
      "Previsto: [0.19054301]\n",
      "Previsto: [0.30516899]\n",
      "Previsto: [0.33756101]\n",
      "Previsto: [0.059028]\n",
      "----------\n",
      "Preco Anterior Date\n",
      "2021-03-13    0.059028\n",
      "2021-03-14    0.061464\n",
      "2021-03-15    0.061684\n",
      "2021-03-16    0.063845\n",
      "2021-03-17    0.074649\n",
      "2021-03-18    0.070767\n",
      "2021-03-19    0.093445\n",
      "2021-03-20    0.121517\n",
      "2021-03-21    0.182207\n",
      "2021-03-22    0.365870\n",
      "2021-03-23    0.284173\n",
      "2021-03-24    0.320475\n",
      "2021-03-25    0.407318\n",
      "2021-03-26    0.319500\n",
      "2021-03-27    0.306925\n",
      "2021-03-28    0.260967\n",
      "2021-03-28    0.248509\n",
      "2021-03-29    0.270212\n",
      "2021-03-30    0.251111\n",
      "2021-03-31    0.270674\n",
      "2021-04-01    0.272188\n",
      "2021-04-02    0.323682\n",
      "2021-04-03    0.305169\n",
      "2021-04-04    0.337561\n",
      "2021-04-05    0.392987\n",
      "Name: Prediction, dtype: float64\n"
     ]
    }
   ],
   "source": [
    "#Predicao dos dados:\n",
    "valores_preditos = []\n",
    "for p in x_val: # percorre a lista de valores da variavel x_val, utilizando os valores da variavel para realizar a previsao\n",
    "    prediction = forest.predict([[p]])\n",
    "    valores_preditos.append(prediction)\n",
    "#previsao\n",
    "    print(\"Previsto:\" , prediction) #preco previsto para os proximos 7 dias\n",
    "print(\"-\"*10)\n",
    "print(\"Preco Anterior\", temp_df.tail(25)[\"Prediction\"]) "
   ]
  },
  {
   "cell_type": "code",
   "execution_count": null,
   "id": "44a45b71-58dd-4df3-8bb5-e6c75b3e2d7f",
   "metadata": {},
   "outputs": [],
   "source": []
  },
  {
   "cell_type": "code",
   "execution_count": null,
   "id": "a2dbf5f3-ab15-4759-a345-e5bc860ddc80",
   "metadata": {},
   "outputs": [],
   "source": []
  },
  {
   "cell_type": "markdown",
   "id": "1e1faf28-2840-4748-93c3-8e732aabba18",
   "metadata": {},
   "source": [
    "### Abril 2021:"
   ]
  },
  {
   "cell_type": "code",
   "execution_count": 54,
   "id": "83d9a9fa-fbf9-4fe5-a9c2-ef5d6a92869f",
   "metadata": {},
   "outputs": [
    {
     "data": {
      "text/html": [
       "<div>\n",
       "<style scoped>\n",
       "    .dataframe tbody tr th:only-of-type {\n",
       "        vertical-align: middle;\n",
       "    }\n",
       "\n",
       "    .dataframe tbody tr th {\n",
       "        vertical-align: top;\n",
       "    }\n",
       "\n",
       "    .dataframe thead th {\n",
       "        text-align: right;\n",
       "    }\n",
       "</style>\n",
       "<table border=\"1\" class=\"dataframe\">\n",
       "  <thead>\n",
       "    <tr style=\"text-align: right;\">\n",
       "      <th></th>\n",
       "      <th>High</th>\n",
       "      <th>Low</th>\n",
       "      <th>Open</th>\n",
       "      <th>Close</th>\n",
       "      <th>Volume</th>\n",
       "      <th>Adj Close</th>\n",
       "    </tr>\n",
       "    <tr>\n",
       "      <th>Date</th>\n",
       "      <th></th>\n",
       "      <th></th>\n",
       "      <th></th>\n",
       "      <th></th>\n",
       "      <th></th>\n",
       "      <th></th>\n",
       "    </tr>\n",
       "  </thead>\n",
       "  <tbody>\n",
       "    <tr>\n",
       "      <th>2021-03-31</th>\n",
       "      <td>0.070111</td>\n",
       "      <td>0.053644</td>\n",
       "      <td>0.053655</td>\n",
       "      <td>0.061986</td>\n",
       "      <td>5816046822</td>\n",
       "      <td>0.061986</td>\n",
       "    </tr>\n",
       "    <tr>\n",
       "      <th>2021-04-01</th>\n",
       "      <td>0.062249</td>\n",
       "      <td>0.057333</td>\n",
       "      <td>0.061968</td>\n",
       "      <td>0.057664</td>\n",
       "      <td>2166925111</td>\n",
       "      <td>0.057664</td>\n",
       "    </tr>\n",
       "    <tr>\n",
       "      <th>2021-04-02</th>\n",
       "      <td>0.059484</td>\n",
       "      <td>0.055804</td>\n",
       "      <td>0.057658</td>\n",
       "      <td>0.055804</td>\n",
       "      <td>1136931403</td>\n",
       "      <td>0.055804</td>\n",
       "    </tr>\n",
       "    <tr>\n",
       "      <th>2021-04-03</th>\n",
       "      <td>0.058107</td>\n",
       "      <td>0.055295</td>\n",
       "      <td>0.055776</td>\n",
       "      <td>0.057404</td>\n",
       "      <td>938035097</td>\n",
       "      <td>0.057404</td>\n",
       "    </tr>\n",
       "    <tr>\n",
       "      <th>2021-04-04</th>\n",
       "      <td>0.060153</td>\n",
       "      <td>0.056435</td>\n",
       "      <td>0.057411</td>\n",
       "      <td>0.059696</td>\n",
       "      <td>1513832721</td>\n",
       "      <td>0.059696</td>\n",
       "    </tr>\n",
       "  </tbody>\n",
       "</table>\n",
       "</div>"
      ],
      "text/plain": [
       "                High       Low      Open     Close      Volume  Adj Close\n",
       "Date                                                                     \n",
       "2021-03-31  0.070111  0.053644  0.053655  0.061986  5816046822   0.061986\n",
       "2021-04-01  0.062249  0.057333  0.061968  0.057664  2166925111   0.057664\n",
       "2021-04-02  0.059484  0.055804  0.057658  0.055804  1136931403   0.055804\n",
       "2021-04-03  0.058107  0.055295  0.055776  0.057404   938035097   0.057404\n",
       "2021-04-04  0.060153  0.056435  0.057411  0.059696  1513832721   0.059696"
      ]
     },
     "execution_count": 54,
     "metadata": {},
     "output_type": "execute_result"
    }
   ],
   "source": [
    "df = web.DataReader('DOGE-USD', data_source='yahoo', start='2021-04-01', end='2021-05-31') \n",
    "df.head()"
   ]
  },
  {
   "cell_type": "code",
   "execution_count": 55,
   "id": "fbbb3d57-d255-45d8-93f9-23b2a23cf3f2",
   "metadata": {},
   "outputs": [
    {
     "data": {
      "text/plain": [
       "<AxesSubplot:xlabel='Date'>"
      ]
     },
     "execution_count": 55,
     "metadata": {},
     "output_type": "execute_result"
    },
    {
     "data": {
      "image/png": "[encoded data removed]",
      "text/plain": [
       "<Figure size 432x288 with 1 Axes>"
      ]
     },
     "metadata": {
      "needs_background": "light"
     },
     "output_type": "display_data"
    }
   ],
   "source": [
    "doge = df\n",
    "doge.plot()"
   ]
  },
  {
   "cell_type": "code",
   "execution_count": 56,
   "id": "dff7c056-c3f2-4666-9a07-aa1a61e6c82e",
   "metadata": {},
   "outputs": [
    {
     "data": {
      "text/html": [
       "<div>\n",
       "<style scoped>\n",
       "    .dataframe tbody tr th:only-of-type {\n",
       "        vertical-align: middle;\n",
       "    }\n",
       "\n",
       "    .dataframe tbody tr th {\n",
       "        vertical-align: top;\n",
       "    }\n",
       "\n",
       "    .dataframe thead th {\n",
       "        text-align: right;\n",
       "    }\n",
       "</style>\n",
       "<table border=\"1\" class=\"dataframe\">\n",
       "  <thead>\n",
       "    <tr style=\"text-align: right;\">\n",
       "      <th></th>\n",
       "      <th>Close</th>\n",
       "    </tr>\n",
       "    <tr>\n",
       "      <th>Date</th>\n",
       "      <th></th>\n",
       "    </tr>\n",
       "  </thead>\n",
       "  <tbody>\n",
       "    <tr>\n",
       "      <th>2021-03-31</th>\n",
       "      <td>0.061986</td>\n",
       "    </tr>\n",
       "    <tr>\n",
       "      <th>2021-04-01</th>\n",
       "      <td>0.057664</td>\n",
       "    </tr>\n",
       "    <tr>\n",
       "      <th>2021-04-02</th>\n",
       "      <td>0.055804</td>\n",
       "    </tr>\n",
       "    <tr>\n",
       "      <th>2021-04-03</th>\n",
       "      <td>0.057404</td>\n",
       "    </tr>\n",
       "    <tr>\n",
       "      <th>2021-04-04</th>\n",
       "      <td>0.059696</td>\n",
       "    </tr>\n",
       "  </tbody>\n",
       "</table>\n",
       "</div>"
      ],
      "text/plain": [
       "               Close\n",
       "Date                \n",
       "2021-03-31  0.061986\n",
       "2021-04-01  0.057664\n",
       "2021-04-02  0.055804\n",
       "2021-04-03  0.057404\n",
       "2021-04-04  0.059696"
      ]
     },
     "execution_count": 56,
     "metadata": {},
     "output_type": "execute_result"
    }
   ],
   "source": [
    "doge = doge.loc[: ,[\"Close\"]] # Utilizamos o preco de fechamento do dia anterior como refencia\n",
    "doge.head()"
   ]
  },
  {
   "cell_type": "code",
   "execution_count": 57,
   "id": "7459d840-1629-4799-8e1f-0b7d85a7a503",
   "metadata": {},
   "outputs": [],
   "source": [
    "# Prever n dias no futuro\n",
    "predic_day = 25 #7 dias\n",
    "\n",
    "# cria uma coluna previsao com dados dos proximos 7. A coluna vai servir para ser utilizada na previsao apos a separacao das bases de teste e treinamento\n",
    "# os dados contidos na coluna Prediction estao 7 dias a frente da doluna Close.\n",
    "doge[\"Prediction\"] = doge[[\"Close\"]].shift(-predic_day)"
   ]
  },
  {
   "cell_type": "code",
   "execution_count": 58,
   "id": "3c020542-1b92-46d8-bf33-bd9e24f3cb26",
   "metadata": {},
   "outputs": [
    {
     "data": {
      "text/html": [
       "<div>\n",
       "<style scoped>\n",
       "    .dataframe tbody tr th:only-of-type {\n",
       "        vertical-align: middle;\n",
       "    }\n",
       "\n",
       "    .dataframe tbody tr th {\n",
       "        vertical-align: top;\n",
       "    }\n",
       "\n",
       "    .dataframe thead th {\n",
       "        text-align: right;\n",
       "    }\n",
       "</style>\n",
       "<table border=\"1\" class=\"dataframe\">\n",
       "  <thead>\n",
       "    <tr style=\"text-align: right;\">\n",
       "      <th></th>\n",
       "      <th>Close</th>\n",
       "      <th>Prediction</th>\n",
       "    </tr>\n",
       "    <tr>\n",
       "      <th>Date</th>\n",
       "      <th></th>\n",
       "      <th></th>\n",
       "    </tr>\n",
       "  </thead>\n",
       "  <tbody>\n",
       "    <tr>\n",
       "      <th>2021-03-31</th>\n",
       "      <td>0.061986</td>\n",
       "      <td>0.270674</td>\n",
       "    </tr>\n",
       "    <tr>\n",
       "      <th>2021-04-01</th>\n",
       "      <td>0.057664</td>\n",
       "      <td>0.272188</td>\n",
       "    </tr>\n",
       "    <tr>\n",
       "      <th>2021-04-02</th>\n",
       "      <td>0.055804</td>\n",
       "      <td>0.323682</td>\n",
       "    </tr>\n",
       "    <tr>\n",
       "      <th>2021-04-03</th>\n",
       "      <td>0.057404</td>\n",
       "      <td>0.305169</td>\n",
       "    </tr>\n",
       "    <tr>\n",
       "      <th>2021-04-04</th>\n",
       "      <td>0.059696</td>\n",
       "      <td>0.337561</td>\n",
       "    </tr>\n",
       "  </tbody>\n",
       "</table>\n",
       "</div>"
      ],
      "text/plain": [
       "               Close  Prediction\n",
       "Date                            \n",
       "2021-03-31  0.061986    0.270674\n",
       "2021-04-01  0.057664    0.272188\n",
       "2021-04-02  0.055804    0.323682\n",
       "2021-04-03  0.057404    0.305169\n",
       "2021-04-04  0.059696    0.337561"
      ]
     },
     "execution_count": 58,
     "metadata": {},
     "output_type": "execute_result"
    }
   ],
   "source": [
    "doge.head()"
   ]
  },
  {
   "cell_type": "code",
   "execution_count": 59,
   "id": "24d9cca8-fe5a-481a-86e4-8bde3a68e98c",
   "metadata": {
    "scrolled": true,
    "tags": []
   },
   "outputs": [
    {
     "data": {
      "text/plain": [
       "array([[0.061986  ],\n",
       "       [0.057664  ],\n",
       "       [0.055804  ],\n",
       "       [0.057404  ],\n",
       "       [0.059696  ],\n",
       "       [0.064458  ],\n",
       "       [0.059028  ],\n",
       "       [0.061464  ],\n",
       "       [0.061684  ],\n",
       "       [0.063845  ],\n",
       "       [0.074649  ],\n",
       "       [0.070767  ],\n",
       "       [0.093445  ],\n",
       "       [0.121517  ],\n",
       "       [0.182207  ],\n",
       "       [0.36587   ],\n",
       "       [0.28417301],\n",
       "       [0.32047501],\n",
       "       [0.407318  ],\n",
       "       [0.3195    ],\n",
       "       [0.306925  ],\n",
       "       [0.26096699],\n",
       "       [0.248509  ],\n",
       "       [0.27021199],\n",
       "       [0.251111  ],\n",
       "       [0.27067399],\n",
       "       [0.27218801],\n",
       "       [0.32368201],\n",
       "       [0.30516899],\n",
       "       [0.33756101],\n",
       "       [0.39298701],\n",
       "       [0.376046  ],\n",
       "       [0.44170699],\n",
       "       [0.54133397],\n",
       "       [0.65763301],\n",
       "       [0.58080399]])"
      ]
     },
     "execution_count": 59,
     "metadata": {},
     "output_type": "execute_result"
    }
   ],
   "source": [
    "# Data set independente\n",
    "X = np.array(doge.drop([\"Prediction\"], 1)) #remove os valores da coluna, qual ira conter os dados que estamos procurando\n",
    "X = X[:len(doge)-predic_day -1] # remove a ultima linha da previsao, pois esta deve estar vazia, por nao conter mais dados a ser previstos\n",
    "X"
   ]
  },
  {
   "cell_type": "code",
   "execution_count": 60,
   "id": "722e4873-f72f-4b42-bec1-db187e8c93e6",
   "metadata": {
    "scrolled": true,
    "tags": []
   },
   "outputs": [
    {
     "data": {
      "text/plain": [
       "array([0.27067399, 0.27218801, 0.32368201, 0.30516899, 0.33756101,\n",
       "       0.39298701, 0.376046  , 0.44170699, 0.54133397, 0.65763301,\n",
       "       0.58080399, 0.68477702, 0.63643903, 0.57007003, 0.44996399,\n",
       "       0.495231  , 0.38537601, 0.490374  , 0.55960399, 0.507972  ,\n",
       "       0.51489502, 0.487892  , 0.47611499, 0.333123  , 0.40019399,\n",
       "       0.359382  , 0.34237099, 0.30807099, 0.366162  , 0.346302  ,\n",
       "       0.35369301, 0.33294499, 0.311205  , 0.30311   , 0.30222401,\n",
       "       0.32580999])"
      ]
     },
     "execution_count": 60,
     "metadata": {},
     "output_type": "execute_result"
    }
   ],
   "source": [
    "#Data set dependende\n",
    "y = np.array(doge[\"Prediction\"]) # pega os dados da coluna Prediction\n",
    "y = y[:-predic_day -1] # pegar todos os daos menos o n+1 (N é o numero de dias)\n",
    "y"
   ]
  },
  {
   "cell_type": "code",
   "execution_count": 61,
   "id": "cf9945d8-16c6-48a3-a87d-8d27c64dc12e",
   "metadata": {},
   "outputs": [],
   "source": [
    "from sklearn.model_selection import train_test_split # separa os dados de trainamento(80%) e dados de teste (20%).\n",
    "\n",
    "x_train, x_test, y_train, y_test = train_test_split(X,y, test_size = 0.20)"
   ]
  },
  {
   "cell_type": "code",
   "execution_count": 62,
   "id": "3138e115-5c95-426d-aa32-2b33fc8a5b15",
   "metadata": {},
   "outputs": [
    {
     "name": "stdout",
     "output_type": "stream",
     "text": [
      "0.8096612010688551\n"
     ]
    }
   ],
   "source": [
    "from sklearn.ensemble import RandomForestRegressor #Importa os modulos para Random Forest Regressor, para utilizar no modelo\n",
    "\n",
    "forest = RandomForestRegressor(n_estimators= 2, random_state= 587)\n",
    "forest.fit(x_train, y_train)\n",
    "print(forest.score(x_train, y_train)) #mostra a pontuacao de confinca no modelo "
   ]
  },
  {
   "cell_type": "code",
   "execution_count": null,
   "id": "7fb24748-8f92-445f-ba85-07343b2f670d",
   "metadata": {},
   "outputs": [],
   "source": []
  },
  {
   "cell_type": "code",
   "execution_count": 63,
   "id": "f6f2e8a8-a9d5-41ef-871b-5fc1581660a6",
   "metadata": {},
   "outputs": [
    {
     "name": "stdout",
     "output_type": "stream",
     "text": [
      "Os valores previstos para Doge Coin sao: [0.507972   0.34237099 0.47611499 0.58080399 0.507972   0.3396235\n",
      " 0.3508765  0.27218801]\n",
      "\n",
      "Os valores reais para Doge Coin sao: [0.366162   0.38537601 0.40019399 0.68477702 0.51489502 0.55960399\n",
      " 0.333123   0.376046  ]\n"
     ]
    }
   ],
   "source": [
    "# faz uma comparacao, mostrando o quao perto os dados previstos estao dos dados reais\n",
    "prediction = forest.predict(x_test)\n",
    "\n",
    "print(\"Os valores previstos para Doge Coin sao:\", prediction) # valores previstos\n",
    "\n",
    "print()\n",
    "\n",
    "print(\"Os valores reais para Doge Coin sao:\" , y_test) # valores reais\n"
   ]
  },
  {
   "cell_type": "code",
   "execution_count": 64,
   "id": "cf8073f2-5e4f-4c3f-ac7e-f544c01da5a0",
   "metadata": {},
   "outputs": [],
   "source": [
    "# Validacao, dados inda nao vistos pelo modelo\n",
    "temp_df = doge[:-predic_day] # pega os dados menos os ultimos 7, que sao os valores que o modelo deve prever\n",
    "\n",
    "\n",
    "# armazena os valores que serao utilizados na futura previsao, no caso os ultimos 7,\n",
    "# ja descontando os dados que retiramos da tabela na variavel acima.\n",
    "x_val = list(temp_df.tail(25)[\"Close\"])\n"
   ]
  },
  {
   "cell_type": "code",
   "execution_count": 65,
   "id": "c790d9b0-860a-4873-abf0-a5c34c6eae68",
   "metadata": {},
   "outputs": [
    {
     "data": {
      "text/plain": [
       "[0.09344500303268433,\n",
       " 0.12151700258255005,\n",
       " 0.18220700323581696,\n",
       " 0.36586999893188477,\n",
       " 0.28417301177978516,\n",
       " 0.3204750120639801,\n",
       " 0.40731799602508545,\n",
       " 0.31949999928474426,\n",
       " 0.3069249987602234,\n",
       " 0.2609669864177704,\n",
       " 0.2485090047121048,\n",
       " 0.27021199464797974,\n",
       " 0.2511110007762909,\n",
       " 0.2706739902496338,\n",
       " 0.2721880078315735,\n",
       " 0.3236820101737976,\n",
       " 0.3051689863204956,\n",
       " 0.3375610113143921,\n",
       " 0.3929870128631592,\n",
       " 0.37604600191116333,\n",
       " 0.44170698523521423,\n",
       " 0.5413339734077454,\n",
       " 0.6576330065727234,\n",
       " 0.5808039903640747,\n",
       " 0.684777021408081]"
      ]
     },
     "execution_count": 65,
     "metadata": {},
     "output_type": "execute_result"
    }
   ],
   "source": [
    "x_val #os ultimos 7 valores utilizados para realizar a previsao."
   ]
  },
  {
   "cell_type": "code",
   "execution_count": 66,
   "id": "3330e7cb-a13d-4451-ad98-baff8f78c57b",
   "metadata": {},
   "outputs": [
    {
     "name": "stdout",
     "output_type": "stream",
     "text": [
      "Previsto: [0.63643903]\n",
      "Previsto: [0.63643903]\n",
      "Previsto: [0.46303949]\n",
      "Previsto: [0.3396235]\n",
      "Previsto: [0.34237099]\n",
      "Previsto: [0.499173]\n",
      "Previsto: [0.3396235]\n",
      "Previsto: [0.507972]\n",
      "Previsto: [0.507972]\n",
      "Previsto: [0.41513149]\n",
      "Previsto: [0.47611499]\n",
      "Previsto: [0.3508765]\n",
      "Previsto: [0.47611499]\n",
      "Previsto: [0.3508765]\n",
      "Previsto: [0.34237099]\n",
      "Previsto: [0.30807099]\n",
      "Previsto: [0.507972]\n",
      "Previsto: [0.346302]\n",
      "Previsto: [0.3396235]\n",
      "Previsto: [0.3396235]\n",
      "Previsto: [0.3071575]\n",
      "Previsto: [0.30311]\n",
      "Previsto: [0.314017]\n",
      "Previsto: [0.32580999]\n",
      "Previsto: [0.314017]\n",
      "----------\n",
      "Preco Anterior Date\n",
      "2021-04-12    0.636439\n",
      "2021-04-13    0.570070\n",
      "2021-04-14    0.449964\n",
      "2021-04-15    0.495231\n",
      "2021-04-16    0.385376\n",
      "2021-04-17    0.490374\n",
      "2021-04-18    0.559604\n",
      "2021-04-19    0.507972\n",
      "2021-04-20    0.514895\n",
      "2021-04-21    0.487892\n",
      "2021-04-22    0.476115\n",
      "2021-04-23    0.333123\n",
      "2021-04-24    0.400194\n",
      "2021-04-25    0.359382\n",
      "2021-04-26    0.342371\n",
      "2021-04-27    0.308071\n",
      "2021-04-28    0.366162\n",
      "2021-04-29    0.346302\n",
      "2021-04-30    0.353693\n",
      "2021-05-01    0.332945\n",
      "2021-05-02    0.311205\n",
      "2021-05-03    0.303110\n",
      "2021-05-04    0.302224\n",
      "2021-05-05    0.325810\n",
      "2021-05-06    0.370077\n",
      "Name: Prediction, dtype: float64\n"
     ]
    }
   ],
   "source": [
    "#Predicao dos dados:\n",
    "valores_preditos = []\n",
    "for p in x_val: # percorre a lista de valores da variavel x_val, utilizando os valores da variavel para realizar a previsao\n",
    "    prediction = forest.predict([[p]])\n",
    "    valores_preditos.append(prediction)\n",
    "#previsao\n",
    "    print(\"Previsto:\" , prediction) #preco previsto para os proximos 7 dias\n",
    "print(\"-\"*10)\n",
    "print(\"Preco Anterior\", temp_df.tail(25)[\"Prediction\"]) "
   ]
  },
  {
   "cell_type": "code",
   "execution_count": null,
   "id": "da9ad23d-b102-4f75-a3ff-756cb2862601",
   "metadata": {},
   "outputs": [],
   "source": []
  },
  {
   "cell_type": "code",
   "execution_count": null,
   "id": "9a8d754c-d1b4-453c-ab7e-4f3f4a712fd0",
   "metadata": {},
   "outputs": [],
   "source": []
  },
  {
   "cell_type": "markdown",
   "id": "476c0c17-3457-446c-b5f9-caeb3fa0dcb9",
   "metadata": {},
   "source": [
    "### Maio 2021:"
   ]
  },
  {
   "cell_type": "code",
   "execution_count": 67,
   "id": "3a4f8a2e-1875-4f86-9b99-06a69c871b2c",
   "metadata": {},
   "outputs": [
    {
     "data": {
      "text/html": [
       "<div>\n",
       "<style scoped>\n",
       "    .dataframe tbody tr th:only-of-type {\n",
       "        vertical-align: middle;\n",
       "    }\n",
       "\n",
       "    .dataframe tbody tr th {\n",
       "        vertical-align: top;\n",
       "    }\n",
       "\n",
       "    .dataframe thead th {\n",
       "        text-align: right;\n",
       "    }\n",
       "</style>\n",
       "<table border=\"1\" class=\"dataframe\">\n",
       "  <thead>\n",
       "    <tr style=\"text-align: right;\">\n",
       "      <th></th>\n",
       "      <th>High</th>\n",
       "      <th>Low</th>\n",
       "      <th>Open</th>\n",
       "      <th>Close</th>\n",
       "      <th>Volume</th>\n",
       "      <th>Adj Close</th>\n",
       "    </tr>\n",
       "    <tr>\n",
       "      <th>Date</th>\n",
       "      <th></th>\n",
       "      <th></th>\n",
       "      <th></th>\n",
       "      <th></th>\n",
       "      <th></th>\n",
       "      <th></th>\n",
       "    </tr>\n",
       "  </thead>\n",
       "  <tbody>\n",
       "    <tr>\n",
       "      <th>2021-04-30</th>\n",
       "      <td>0.397135</td>\n",
       "      <td>0.328290</td>\n",
       "      <td>0.337559</td>\n",
       "      <td>0.392987</td>\n",
       "      <td>10123343703</td>\n",
       "      <td>0.392987</td>\n",
       "    </tr>\n",
       "    <tr>\n",
       "      <th>2021-05-01</th>\n",
       "      <td>0.400029</td>\n",
       "      <td>0.364874</td>\n",
       "      <td>0.391087</td>\n",
       "      <td>0.376046</td>\n",
       "      <td>8040406918</td>\n",
       "      <td>0.376046</td>\n",
       "    </tr>\n",
       "    <tr>\n",
       "      <th>2021-05-02</th>\n",
       "      <td>0.445567</td>\n",
       "      <td>0.373631</td>\n",
       "      <td>0.373631</td>\n",
       "      <td>0.441707</td>\n",
       "      <td>10526649978</td>\n",
       "      <td>0.441707</td>\n",
       "    </tr>\n",
       "    <tr>\n",
       "      <th>2021-05-03</th>\n",
       "      <td>0.605998</td>\n",
       "      <td>0.400800</td>\n",
       "      <td>0.440274</td>\n",
       "      <td>0.541334</td>\n",
       "      <td>38238126181</td>\n",
       "      <td>0.541334</td>\n",
       "    </tr>\n",
       "    <tr>\n",
       "      <th>2021-05-04</th>\n",
       "      <td>0.695262</td>\n",
       "      <td>0.523822</td>\n",
       "      <td>0.537355</td>\n",
       "      <td>0.657633</td>\n",
       "      <td>42525098292</td>\n",
       "      <td>0.657633</td>\n",
       "    </tr>\n",
       "  </tbody>\n",
       "</table>\n",
       "</div>"
      ],
      "text/plain": [
       "                High       Low      Open     Close       Volume  Adj Close\n",
       "Date                                                                      \n",
       "2021-04-30  0.397135  0.328290  0.337559  0.392987  10123343703   0.392987\n",
       "2021-05-01  0.400029  0.364874  0.391087  0.376046   8040406918   0.376046\n",
       "2021-05-02  0.445567  0.373631  0.373631  0.441707  10526649978   0.441707\n",
       "2021-05-03  0.605998  0.400800  0.440274  0.541334  38238126181   0.541334\n",
       "2021-05-04  0.695262  0.523822  0.537355  0.657633  42525098292   0.657633"
      ]
     },
     "execution_count": 67,
     "metadata": {},
     "output_type": "execute_result"
    }
   ],
   "source": [
    "df = web.DataReader('DOGE-USD', data_source='yahoo', start='2021-05-01', end='2021-06-06') \n",
    "df.head()"
   ]
  },
  {
   "cell_type": "code",
   "execution_count": 68,
   "id": "e09518b0-1247-48a6-b9ba-1f6f3ef2b1df",
   "metadata": {},
   "outputs": [
    {
     "data": {
      "text/plain": [
       "<AxesSubplot:xlabel='Date'>"
      ]
     },
     "execution_count": 68,
     "metadata": {},
     "output_type": "execute_result"
    },
    {
     "data": {
      "image/png": "[encoded data removed]",
      "text/plain": [
       "<Figure size 432x288 with 1 Axes>"
      ]
     },
     "metadata": {
      "needs_background": "light"
     },
     "output_type": "display_data"
    }
   ],
   "source": [
    "doge = df\n",
    "doge.plot()"
   ]
  },
  {
   "cell_type": "code",
   "execution_count": 69,
   "id": "9e66e430-0dc7-4551-a06f-8fd7267709ac",
   "metadata": {},
   "outputs": [
    {
     "data": {
      "text/html": [
       "<div>\n",
       "<style scoped>\n",
       "    .dataframe tbody tr th:only-of-type {\n",
       "        vertical-align: middle;\n",
       "    }\n",
       "\n",
       "    .dataframe tbody tr th {\n",
       "        vertical-align: top;\n",
       "    }\n",
       "\n",
       "    .dataframe thead th {\n",
       "        text-align: right;\n",
       "    }\n",
       "</style>\n",
       "<table border=\"1\" class=\"dataframe\">\n",
       "  <thead>\n",
       "    <tr style=\"text-align: right;\">\n",
       "      <th></th>\n",
       "      <th>Close</th>\n",
       "    </tr>\n",
       "    <tr>\n",
       "      <th>Date</th>\n",
       "      <th></th>\n",
       "    </tr>\n",
       "  </thead>\n",
       "  <tbody>\n",
       "    <tr>\n",
       "      <th>2021-04-30</th>\n",
       "      <td>0.392987</td>\n",
       "    </tr>\n",
       "    <tr>\n",
       "      <th>2021-05-01</th>\n",
       "      <td>0.376046</td>\n",
       "    </tr>\n",
       "    <tr>\n",
       "      <th>2021-05-02</th>\n",
       "      <td>0.441707</td>\n",
       "    </tr>\n",
       "    <tr>\n",
       "      <th>2021-05-03</th>\n",
       "      <td>0.541334</td>\n",
       "    </tr>\n",
       "    <tr>\n",
       "      <th>2021-05-04</th>\n",
       "      <td>0.657633</td>\n",
       "    </tr>\n",
       "  </tbody>\n",
       "</table>\n",
       "</div>"
      ],
      "text/plain": [
       "               Close\n",
       "Date                \n",
       "2021-04-30  0.392987\n",
       "2021-05-01  0.376046\n",
       "2021-05-02  0.441707\n",
       "2021-05-03  0.541334\n",
       "2021-05-04  0.657633"
      ]
     },
     "execution_count": 69,
     "metadata": {},
     "output_type": "execute_result"
    }
   ],
   "source": [
    "doge = doge.loc[: ,[\"Close\"]] # Utilizamos o preco de fechamento do dia anterior como refencia\n",
    "doge.head()"
   ]
  },
  {
   "cell_type": "code",
   "execution_count": 70,
   "id": "957d228c-d794-4636-af34-d9ca2c9b4591",
   "metadata": {},
   "outputs": [],
   "source": [
    "# Prever n dias no futuro\n",
    "predic_day = 25 #7 dias\n",
    "\n",
    "# cria uma coluna previsao com dados dos proximos 7. A coluna vai servir para ser utilizada na previsao apos a separacao das bases de teste e treinamento\n",
    "# os dados contidos na coluna Prediction estao 7 dias a frente da doluna Close.\n",
    "doge[\"Prediction\"] = doge[[\"Close\"]].shift(-predic_day)"
   ]
  },
  {
   "cell_type": "code",
   "execution_count": 71,
   "id": "61f6c783-616a-4dac-ae1d-428260eb0c68",
   "metadata": {},
   "outputs": [
    {
     "data": {
      "text/html": [
       "<div>\n",
       "<style scoped>\n",
       "    .dataframe tbody tr th:only-of-type {\n",
       "        vertical-align: middle;\n",
       "    }\n",
       "\n",
       "    .dataframe tbody tr th {\n",
       "        vertical-align: top;\n",
       "    }\n",
       "\n",
       "    .dataframe thead th {\n",
       "        text-align: right;\n",
       "    }\n",
       "</style>\n",
       "<table border=\"1\" class=\"dataframe\">\n",
       "  <thead>\n",
       "    <tr style=\"text-align: right;\">\n",
       "      <th></th>\n",
       "      <th>Close</th>\n",
       "      <th>Prediction</th>\n",
       "    </tr>\n",
       "    <tr>\n",
       "      <th>Date</th>\n",
       "      <th></th>\n",
       "      <th></th>\n",
       "    </tr>\n",
       "  </thead>\n",
       "  <tbody>\n",
       "    <tr>\n",
       "      <th>2021-04-30</th>\n",
       "      <td>0.392987</td>\n",
       "      <td>0.353693</td>\n",
       "    </tr>\n",
       "    <tr>\n",
       "      <th>2021-05-01</th>\n",
       "      <td>0.376046</td>\n",
       "      <td>0.332945</td>\n",
       "    </tr>\n",
       "    <tr>\n",
       "      <th>2021-05-02</th>\n",
       "      <td>0.441707</td>\n",
       "      <td>0.311205</td>\n",
       "    </tr>\n",
       "    <tr>\n",
       "      <th>2021-05-03</th>\n",
       "      <td>0.541334</td>\n",
       "      <td>0.303110</td>\n",
       "    </tr>\n",
       "    <tr>\n",
       "      <th>2021-05-04</th>\n",
       "      <td>0.657633</td>\n",
       "      <td>0.302224</td>\n",
       "    </tr>\n",
       "  </tbody>\n",
       "</table>\n",
       "</div>"
      ],
      "text/plain": [
       "               Close  Prediction\n",
       "Date                            \n",
       "2021-04-30  0.392987    0.353693\n",
       "2021-05-01  0.376046    0.332945\n",
       "2021-05-02  0.441707    0.311205\n",
       "2021-05-03  0.541334    0.303110\n",
       "2021-05-04  0.657633    0.302224"
      ]
     },
     "execution_count": 71,
     "metadata": {},
     "output_type": "execute_result"
    }
   ],
   "source": [
    "doge.head()"
   ]
  },
  {
   "cell_type": "code",
   "execution_count": 72,
   "id": "17e95b89-6240-4f17-8c37-4edcde8489aa",
   "metadata": {
    "scrolled": true,
    "tags": []
   },
   "outputs": [
    {
     "data": {
      "text/plain": [
       "array([[0.39298701],\n",
       "       [0.376046  ],\n",
       "       [0.44170699],\n",
       "       [0.54133397],\n",
       "       [0.65763301],\n",
       "       [0.58080399],\n",
       "       [0.68477702],\n",
       "       [0.63643903],\n",
       "       [0.57007003],\n",
       "       [0.44996399],\n",
       "       [0.495231  ],\n",
       "       [0.38537601]])"
      ]
     },
     "execution_count": 72,
     "metadata": {},
     "output_type": "execute_result"
    }
   ],
   "source": [
    "# Data set independente\n",
    "X = np.array(doge.drop([\"Prediction\"], 1)) #remove os valores da coluna, qual ira conter os dados que estamos procurando\n",
    "X = X[:len(doge)-predic_day -1] # remove a ultima linha da previsao, pois esta deve estar vazia, por nao conter mais dados a ser previstos\n",
    "X"
   ]
  },
  {
   "cell_type": "code",
   "execution_count": 73,
   "id": "e2c7ee36-896c-46a7-8fee-9116c93aae9d",
   "metadata": {
    "scrolled": true,
    "tags": []
   },
   "outputs": [
    {
     "data": {
      "text/plain": [
       "array([0.35369301, 0.33294499, 0.311205  , 0.30311   , 0.30222401,\n",
       "       0.32580999, 0.37007701, 0.423374  , 0.39996299, 0.37632301,\n",
       "       0.372177  , 0.37180701])"
      ]
     },
     "execution_count": 73,
     "metadata": {},
     "output_type": "execute_result"
    }
   ],
   "source": [
    "#Data set dependende\n",
    "y = np.array(doge[\"Prediction\"]) # pega os dados da coluna Prediction\n",
    "y = y[:-predic_day -1] # pegar todos os daos menos o n+1 (N é o numero de dias)\n",
    "y"
   ]
  },
  {
   "cell_type": "code",
   "execution_count": 74,
   "id": "06cd0fb0-e72c-4fea-89b3-f89b01c70b03",
   "metadata": {},
   "outputs": [],
   "source": [
    "from sklearn.model_selection import train_test_split # separa os dados de trainamento(80%) e dados de teste (20%).\n",
    "\n",
    "x_train, x_test, y_train, y_test = train_test_split(X,y, test_size = 0.20)"
   ]
  },
  {
   "cell_type": "code",
   "execution_count": 75,
   "id": "65ea0998-5435-4bbd-b82b-43c151af7231",
   "metadata": {},
   "outputs": [
    {
     "name": "stdout",
     "output_type": "stream",
     "text": [
      "0.31049305021818074\n"
     ]
    }
   ],
   "source": [
    "from sklearn.ensemble import RandomForestRegressor #Importa os modulos para Random Forest Regressor, para utilizar no modelo\n",
    "\n",
    "forest = RandomForestRegressor(n_estimators= 2, random_state= 587)\n",
    "forest.fit(x_train, y_train)\n",
    "print(forest.score(x_train, y_train)) #mostra a pontuacao de confinca no modelo "
   ]
  },
  {
   "cell_type": "code",
   "execution_count": null,
   "id": "a4190792-3d02-4d24-85f7-a85c1486bda6",
   "metadata": {},
   "outputs": [],
   "source": []
  },
  {
   "cell_type": "code",
   "execution_count": 76,
   "id": "39af3916-c6e8-4d37-ad80-142bdc3e8e41",
   "metadata": {},
   "outputs": [
    {
     "name": "stdout",
     "output_type": "stream",
     "text": [
      "Os valores previstos para Doge Coin sao: [0.311205   0.3071575  0.35369301]\n",
      "\n",
      "Os valores reais para Doge Coin sao: [0.37632301 0.372177   0.37180701]\n"
     ]
    }
   ],
   "source": [
    "# faz uma comparacao, mostrando o quao perto os dados previstos estao dos dados reais\n",
    "prediction = forest.predict(x_test)\n",
    "\n",
    "print(\"Os valores previstos para Doge Coin sao:\", prediction) # valores previstos\n",
    "\n",
    "print()\n",
    "\n",
    "print(\"Os valores reais para Doge Coin sao:\" , y_test) # valores reais\n"
   ]
  },
  {
   "cell_type": "code",
   "execution_count": 77,
   "id": "234fe294-37ce-4e04-8708-7a85c58f6171",
   "metadata": {},
   "outputs": [],
   "source": [
    "# Validacao, dados inda nao vistos pelo modelo\n",
    "temp_df = doge[:-predic_day] # pega os dados menos os ultimos 7, que sao os valores que o modelo deve prever\n",
    "\n",
    "\n",
    "# armazena os valores que serao utilizados na futura previsao, no caso os ultimos 7,\n",
    "# ja descontando os dados que retiramos da tabela na variavel acima.\n",
    "x_val = list(temp_df.tail(25)[\"Close\"])\n"
   ]
  },
  {
   "cell_type": "code",
   "execution_count": 78,
   "id": "3f094407-bcfa-436e-bd36-b82151b9c4a0",
   "metadata": {},
   "outputs": [
    {
     "data": {
      "text/plain": [
       "[0.3929870128631592,\n",
       " 0.37604600191116333,\n",
       " 0.44170698523521423,\n",
       " 0.5413339734077454,\n",
       " 0.6576330065727234,\n",
       " 0.5808039903640747,\n",
       " 0.684777021408081,\n",
       " 0.6364390254020691,\n",
       " 0.5700700283050537,\n",
       " 0.4499639868736267,\n",
       " 0.4952310025691986,\n",
       " 0.3853760063648224,\n",
       " 0.49037399888038635]"
      ]
     },
     "execution_count": 78,
     "metadata": {},
     "output_type": "execute_result"
    }
   ],
   "source": [
    "x_val #os ultimos 7 valores utilizados para realizar a previsao."
   ]
  },
  {
   "cell_type": "code",
   "execution_count": 79,
   "id": "44afa5c8-5780-4f41-85b3-a461d769ac0c",
   "metadata": {},
   "outputs": [
    {
     "name": "stdout",
     "output_type": "stream",
     "text": [
      "Previsto: [0.35369301]\n",
      "Previsto: [0.33294499]\n",
      "Previsto: [0.311205]\n",
      "Previsto: [0.3515365]\n",
      "Previsto: [0.362799]\n",
      "Previsto: [0.32580999]\n",
      "Previsto: [0.39672551]\n",
      "Previsto: [0.362799]\n",
      "Previsto: [0.39996299]\n",
      "Previsto: [0.311205]\n",
      "Previsto: [0.3071575]\n",
      "Previsto: [0.35369301]\n",
      "Previsto: [0.311205]\n",
      "----------\n",
      "Preco Anterior Date\n",
      "2021-04-30    0.353693\n",
      "2021-05-01    0.332945\n",
      "2021-05-02    0.311205\n",
      "2021-05-03    0.303110\n",
      "2021-05-04    0.302224\n",
      "2021-05-05    0.325810\n",
      "2021-05-06    0.370077\n",
      "2021-05-07    0.423374\n",
      "2021-05-08    0.399963\n",
      "2021-05-09    0.376323\n",
      "2021-05-10    0.372177\n",
      "2021-05-11    0.371807\n",
      "2021-05-12    0.331050\n",
      "Name: Prediction, dtype: float64\n"
     ]
    }
   ],
   "source": [
    "#Predicao dos dados:\n",
    "valores_preditos = []\n",
    "for p in x_val: # percorre a lista de valores da variavel x_val, utilizando os valores da variavel para realizar a previsao\n",
    "    prediction = forest.predict([[p]])\n",
    "    valores_preditos.append(prediction)\n",
    "#previsao\n",
    "    print(\"Previsto:\" , prediction) #preco previsto para os proximos 7 dias\n",
    "print(\"-\"*10)\n",
    "print(\"Preco Anterior\", temp_df.tail(25)[\"Prediction\"]) "
   ]
  },
  {
   "cell_type": "code",
   "execution_count": null,
   "id": "1c70e480-ce2a-4ee1-990b-3e567ea3d0d9",
   "metadata": {},
   "outputs": [],
   "source": []
  },
  {
   "cell_type": "code",
   "execution_count": null,
   "id": "b15c3e4f-eff3-4190-a03b-3d131837fe89",
   "metadata": {},
   "outputs": [],
   "source": []
  }
 ],
 "metadata": {
  "kernelspec": {
   "display_name": "Python 3",
   "language": "python",
   "name": "python3"
  },
  "language_info": {
   "codemirror_mode": {
    "name": "ipython",
    "version": 3
   },
   "file_extension": ".py",
   "mimetype": "text/x-python",
   "name": "python",
   "nbconvert_exporter": "python",
   "pygments_lexer": "ipython3",
   "version": "3.9.4"
  }
 },
 "nbformat": 4,
 "nbformat_minor": 5
}
